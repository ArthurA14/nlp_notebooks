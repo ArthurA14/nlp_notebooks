{
  "cells": [
    {
      "cell_type": "markdown",
      "metadata": {
        "id": "yEmFCZ7nMdCv"
      },
      "source": [
        "## Twitter search with word embeddings - ALLIE Arthur - EFREI - M1 BDIA APP"
      ]
    },
    {
      "cell_type": "code",
      "execution_count": 168,
      "metadata": {
        "id": "AZXYN977Mh7i"
      },
      "outputs": [],
      "source": [
        "import pandas as pd\n",
        "import matplotlib.pyplot as plt\n",
        "import numpy as np\n",
        "import nltk\n",
        "# nltk.download('stopwords')\n",
        "# nltk.download('punkt')\n",
        "from nltk.corpus import stopwords\n",
        "stop=set(stopwords.words('english'))\n",
        "from collections import defaultdict\n",
        "import re\n",
        "from nltk.tokenize import word_tokenize\n",
        "import gensim\n",
        "import string\n",
        "from keras.preprocessing.text import Tokenizer\n",
        "from keras.preprocessing.sequence import pad_sequences\n",
        "from tqdm import tqdm\n",
        "from keras.models import Sequential\n",
        "from keras.layers import Embedding\n",
        "from keras.initializers import Constant\n",
        "from sklearn.model_selection import train_test_split"
      ]
    },
    {
      "cell_type": "code",
      "execution_count": 169,
      "metadata": {
        "id": "RCc39iFZndRC"
      },
      "outputs": [],
      "source": [
        "data = pd.read_csv('tweets.csv')"
      ]
    },
    {
      "cell_type": "code",
      "execution_count": 170,
      "metadata": {
        "colab": {
          "base_uri": "https://localhost:8080/",
          "height": 206
        },
        "id": "kga6IaBXpX64",
        "outputId": "22ac14fe-8d07-4964-cf96-907438d4ade0"
      },
      "outputs": [
        {
          "data": {
            "text/html": [
              "\n",
              "  <div id=\"df-e676589a-e9f0-4f66-a134-2481d0b61cbf\">\n",
              "    <div class=\"colab-df-container\">\n",
              "      <div>\n",
              "<style scoped>\n",
              "    .dataframe tbody tr th:only-of-type {\n",
              "        vertical-align: middle;\n",
              "    }\n",
              "\n",
              "    .dataframe tbody tr th {\n",
              "        vertical-align: top;\n",
              "    }\n",
              "\n",
              "    .dataframe thead th {\n",
              "        text-align: right;\n",
              "    }\n",
              "</style>\n",
              "<table border=\"1\" class=\"dataframe\">\n",
              "  <thead>\n",
              "    <tr style=\"text-align: right;\">\n",
              "      <th></th>\n",
              "      <th>id</th>\n",
              "      <th>created_at</th>\n",
              "      <th>text</th>\n",
              "    </tr>\n",
              "  </thead>\n",
              "  <tbody>\n",
              "    <tr>\n",
              "      <th>0</th>\n",
              "      <td>849636868052275200</td>\n",
              "      <td>2017-04-05 14:56:29</td>\n",
              "      <td>b'And so the robots spared humanity ... https:...</td>\n",
              "    </tr>\n",
              "    <tr>\n",
              "      <th>1</th>\n",
              "      <td>848988730585096192</td>\n",
              "      <td>2017-04-03 20:01:01</td>\n",
              "      <td>b\"@ForIn2020 @waltmossberg @mims @defcon_5 Exa...</td>\n",
              "    </tr>\n",
              "    <tr>\n",
              "      <th>2</th>\n",
              "      <td>848943072423497728</td>\n",
              "      <td>2017-04-03 16:59:35</td>\n",
              "      <td>b'@waltmossberg @mims @defcon_5 Et tu, Walt?'</td>\n",
              "    </tr>\n",
              "    <tr>\n",
              "      <th>3</th>\n",
              "      <td>848935705057280001</td>\n",
              "      <td>2017-04-03 16:30:19</td>\n",
              "      <td>b'Stormy weather in Shortville ...'</td>\n",
              "    </tr>\n",
              "    <tr>\n",
              "      <th>4</th>\n",
              "      <td>848416049573658624</td>\n",
              "      <td>2017-04-02 06:05:23</td>\n",
              "      <td>b\"@DaveLeeBBC @verge Coal is dying due to nat ...</td>\n",
              "    </tr>\n",
              "  </tbody>\n",
              "</table>\n",
              "</div>\n",
              "      <button class=\"colab-df-convert\" onclick=\"convertToInteractive('df-e676589a-e9f0-4f66-a134-2481d0b61cbf')\"\n",
              "              title=\"Convert this dataframe to an interactive table.\"\n",
              "              style=\"display:none;\">\n",
              "        \n",
              "  <svg xmlns=\"http://www.w3.org/2000/svg\" height=\"24px\"viewBox=\"0 0 24 24\"\n",
              "       width=\"24px\">\n",
              "    <path d=\"M0 0h24v24H0V0z\" fill=\"none\"/>\n",
              "    <path d=\"M18.56 5.44l.94 2.06.94-2.06 2.06-.94-2.06-.94-.94-2.06-.94 2.06-2.06.94zm-11 1L8.5 8.5l.94-2.06 2.06-.94-2.06-.94L8.5 2.5l-.94 2.06-2.06.94zm10 10l.94 2.06.94-2.06 2.06-.94-2.06-.94-.94-2.06-.94 2.06-2.06.94z\"/><path d=\"M17.41 7.96l-1.37-1.37c-.4-.4-.92-.59-1.43-.59-.52 0-1.04.2-1.43.59L10.3 9.45l-7.72 7.72c-.78.78-.78 2.05 0 2.83L4 21.41c.39.39.9.59 1.41.59.51 0 1.02-.2 1.41-.59l7.78-7.78 2.81-2.81c.8-.78.8-2.07 0-2.86zM5.41 20L4 18.59l7.72-7.72 1.47 1.35L5.41 20z\"/>\n",
              "  </svg>\n",
              "      </button>\n",
              "      \n",
              "  <style>\n",
              "    .colab-df-container {\n",
              "      display:flex;\n",
              "      flex-wrap:wrap;\n",
              "      gap: 12px;\n",
              "    }\n",
              "\n",
              "    .colab-df-convert {\n",
              "      background-color: #E8F0FE;\n",
              "      border: none;\n",
              "      border-radius: 50%;\n",
              "      cursor: pointer;\n",
              "      display: none;\n",
              "      fill: #1967D2;\n",
              "      height: 32px;\n",
              "      padding: 0 0 0 0;\n",
              "      width: 32px;\n",
              "    }\n",
              "\n",
              "    .colab-df-convert:hover {\n",
              "      background-color: #E2EBFA;\n",
              "      box-shadow: 0px 1px 2px rgba(60, 64, 67, 0.3), 0px 1px 3px 1px rgba(60, 64, 67, 0.15);\n",
              "      fill: #174EA6;\n",
              "    }\n",
              "\n",
              "    [theme=dark] .colab-df-convert {\n",
              "      background-color: #3B4455;\n",
              "      fill: #D2E3FC;\n",
              "    }\n",
              "\n",
              "    [theme=dark] .colab-df-convert:hover {\n",
              "      background-color: #434B5C;\n",
              "      box-shadow: 0px 1px 3px 1px rgba(0, 0, 0, 0.15);\n",
              "      filter: drop-shadow(0px 1px 2px rgba(0, 0, 0, 0.3));\n",
              "      fill: #FFFFFF;\n",
              "    }\n",
              "  </style>\n",
              "\n",
              "      <script>\n",
              "        const buttonEl =\n",
              "          document.querySelector('#df-e676589a-e9f0-4f66-a134-2481d0b61cbf button.colab-df-convert');\n",
              "        buttonEl.style.display =\n",
              "          google.colab.kernel.accessAllowed ? 'block' : 'none';\n",
              "\n",
              "        async function convertToInteractive(key) {\n",
              "          const element = document.querySelector('#df-e676589a-e9f0-4f66-a134-2481d0b61cbf');\n",
              "          const dataTable =\n",
              "            await google.colab.kernel.invokeFunction('convertToInteractive',\n",
              "                                                     [key], {});\n",
              "          if (!dataTable) return;\n",
              "\n",
              "          const docLinkHtml = 'Like what you see? Visit the ' +\n",
              "            '<a target=\"_blank\" href=https://colab.research.google.com/notebooks/data_table.ipynb>data table notebook</a>'\n",
              "            + ' to learn more about interactive tables.';\n",
              "          element.innerHTML = '';\n",
              "          dataTable['output_type'] = 'display_data';\n",
              "          await google.colab.output.renderOutput(dataTable, element);\n",
              "          const docLink = document.createElement('div');\n",
              "          docLink.innerHTML = docLinkHtml;\n",
              "          element.appendChild(docLink);\n",
              "        }\n",
              "      </script>\n",
              "    </div>\n",
              "  </div>\n",
              "  "
            ],
            "text/plain": [
              "                   id           created_at  \\\n",
              "0  849636868052275200  2017-04-05 14:56:29   \n",
              "1  848988730585096192  2017-04-03 20:01:01   \n",
              "2  848943072423497728  2017-04-03 16:59:35   \n",
              "3  848935705057280001  2017-04-03 16:30:19   \n",
              "4  848416049573658624  2017-04-02 06:05:23   \n",
              "\n",
              "                                                text  \n",
              "0  b'And so the robots spared humanity ... https:...  \n",
              "1  b\"@ForIn2020 @waltmossberg @mims @defcon_5 Exa...  \n",
              "2      b'@waltmossberg @mims @defcon_5 Et tu, Walt?'  \n",
              "3                b'Stormy weather in Shortville ...'  \n",
              "4  b\"@DaveLeeBBC @verge Coal is dying due to nat ...  "
            ]
          },
          "execution_count": 170,
          "metadata": {},
          "output_type": "execute_result"
        }
      ],
      "source": [
        "data.head(5)"
      ]
    },
    {
      "cell_type": "markdown",
      "metadata": {
        "id": "5tahNFXTBSkQ"
      },
      "source": [
        "### 1- Perform the necessary pre-processing on the tweets"
      ]
    },
    {
      "cell_type": "markdown",
      "metadata": {
        "id": "rAuS2U0sosFx"
      },
      "source": [
        "- Removing urls"
      ]
    },
    {
      "cell_type": "code",
      "execution_count": 171,
      "metadata": {
        "id": "Nw3_vrDqopCR"
      },
      "outputs": [],
      "source": [
        "def removing_url(data):\n",
        "    url = re.compile(r'https?://\\S+|www\\.\\S+')\n",
        "    return url.sub(r'', data)"
      ]
    },
    {
      "cell_type": "code",
      "execution_count": 172,
      "metadata": {
        "colab": {
          "base_uri": "https://localhost:8080/",
          "height": 35
        },
        "id": "8vDR60A4opEz",
        "outputId": "302919d2-04a9-4aab-e43a-bf98c8f60b79"
      },
      "outputs": [
        {
          "data": {
            "application/vnd.google.colaboratory.intrinsic+json": {
              "type": "string"
            },
            "text/plain": [
              "'My data is : '"
            ]
          },
          "execution_count": 172,
          "metadata": {},
          "output_type": "execute_result"
        }
      ],
      "source": [
        "example = \"My data is : https://www.vivastreet.com/\"\n",
        "removing_url(example)"
      ]
    },
    {
      "cell_type": "code",
      "execution_count": 173,
      "metadata": {
        "id": "-FzxPzR0opO5"
      },
      "outputs": [],
      "source": [
        "data['text'] = data['text'].apply(lambda x : removing_url(x))"
      ]
    },
    {
      "cell_type": "markdown",
      "metadata": {
        "id": "VS0DJQDhsakg"
      },
      "source": [
        "- General Data Cleaning"
      ]
    },
    {
      "cell_type": "code",
      "execution_count": 174,
      "metadata": {
        "id": "7KlyUcBBqsJy"
      },
      "outputs": [],
      "source": [
        "import dataclasses\n",
        "\n",
        "def data_cleaning(data):\n",
        "    symbols_cleaning = re.compile(\"[\"\n",
        "                           u\"\\U0001F600-\\U0001F64F\"  # emoticons\n",
        "                           u\"\\U0001F300-\\U0001F5FF\"  # symbols & pictographs\n",
        "                           u\"\\U0001F680-\\U0001F6FF\"  # transport & map symbols\n",
        "                           u\"\\U0001F1E0-\\U0001F1FF\"  # flags (iOS)\n",
        "                           u\"\\U00002702-\\U000027B0\"\n",
        "                           u\"\\U000024C2-\\U0001F251\"\n",
        "                           \"]+\", flags=re.UNICODE)\n",
        "    return symbols_cleaning.sub(r'', data)"
      ]
    },
    {
      "cell_type": "code",
      "execution_count": 175,
      "metadata": {
        "colab": {
          "base_uri": "https://localhost:8080/",
          "height": 35
        },
        "id": "U8ti3Z6SqsMq",
        "outputId": "8e9cb0e1-dad3-4081-d15e-329eaf5ad313"
      },
      "outputs": [
        {
          "data": {
            "application/vnd.google.colaboratory.intrinsic+json": {
              "type": "string"
            },
            "text/plain": [
              "'Hello dude '"
            ]
          },
          "execution_count": 175,
          "metadata": {},
          "output_type": "execute_result"
        }
      ],
      "source": [
        "example = \"Hello dude 😸😸😸\"\n",
        "data_cleaning(example)"
      ]
    },
    {
      "cell_type": "code",
      "execution_count": 176,
      "metadata": {
        "id": "or1nLkRHqsPt"
      },
      "outputs": [],
      "source": [
        "data['text'] = data['text'].apply(lambda x: data_cleaning(x))"
      ]
    },
    {
      "cell_type": "markdown",
      "metadata": {
        "id": "CMHqEnVptVhz"
      },
      "source": [
        "- Removing punctuations"
      ]
    },
    {
      "cell_type": "code",
      "execution_count": 177,
      "metadata": {
        "id": "Tkn1TpvTtU59"
      },
      "outputs": [],
      "source": [
        "def removing_punctuation(data):\n",
        "    table = str.maketrans('','',string.punctuation)\n",
        "    return data.translate(table)"
      ]
    },
    {
      "cell_type": "code",
      "execution_count": 178,
      "metadata": {
        "colab": {
          "base_uri": "https://localhost:8080/",
          "height": 35
        },
        "id": "3OPQQlWqtU8f",
        "outputId": "99dc517e-e846-4c10-a809-c4b6c99ff13f"
      },
      "outputs": [
        {
          "data": {
            "application/vnd.google.colaboratory.intrinsic+json": {
              "type": "string"
            },
            "text/plain": [
              "'You are a  genius'"
            ]
          },
          "execution_count": 178,
          "metadata": {},
          "output_type": "execute_result"
        }
      ],
      "source": [
        "example = \"You are a ###### genius\"\n",
        "removing_punctuation(example)"
      ]
    },
    {
      "cell_type": "code",
      "execution_count": 179,
      "metadata": {
        "id": "EmvwONrctU_N"
      },
      "outputs": [],
      "source": [
        "data['text'] = data['text'].apply(lambda x : removing_punctuation(x))"
      ]
    },
    {
      "cell_type": "code",
      "execution_count": 180,
      "metadata": {
        "id": "EyEVN2qPkXgG"
      },
      "outputs": [],
      "source": [
        "def removing_punctuation_bis(data):\n",
        "    punct_tag=re.compile(r'[^\\w\\s]')\n",
        "    return punct_tag.sub(r'',data)"
      ]
    },
    {
      "cell_type": "code",
      "execution_count": 181,
      "metadata": {
        "colab": {
          "base_uri": "https://localhost:8080/",
          "height": 35
        },
        "id": "Q3zaNHx_kXif",
        "outputId": "54dafa6d-288f-4345-9762-7079fb0bc5ef"
      },
      "outputs": [
        {
          "data": {
            "application/vnd.google.colaboratory.intrinsic+json": {
              "type": "string"
            },
            "text/plain": [
              "'You are a  genius'"
            ]
          },
          "execution_count": 181,
          "metadata": {},
          "output_type": "execute_result"
        }
      ],
      "source": [
        "example = \"You are a ###### genius\"\n",
        "removing_punctuation_bis(example)"
      ]
    },
    {
      "cell_type": "code",
      "execution_count": 182,
      "metadata": {
        "id": "DsP2eDsykXtK"
      },
      "outputs": [],
      "source": [
        "data['text'] = data['text'].apply(lambda x : removing_punctuation_bis(x))"
      ]
    },
    {
      "cell_type": "markdown",
      "metadata": {
        "id": "j6o97vL8vtyF"
      },
      "source": [
        "- Removing html"
      ]
    },
    {
      "cell_type": "code",
      "execution_count": 183,
      "metadata": {
        "id": "zPF8zC6ctVB0"
      },
      "outputs": [],
      "source": [
        "def removing_html(data):\n",
        "    html_tag = re.compile(r'<.*?>')\n",
        "    return html_tag.sub(r'', data)"
      ]
    },
    {
      "cell_type": "code",
      "execution_count": 184,
      "metadata": {
        "colab": {
          "base_uri": "https://localhost:8080/",
          "height": 35
        },
        "id": "DD9vqaCotVEx",
        "outputId": "279a00b6-40bf-42bd-bf85-870915845b10"
      },
      "outputs": [
        {
          "data": {
            "application/vnd.google.colaboratory.intrinsic+json": {
              "type": "string"
            },
            "text/plain": [
              "' What an economic crisis '"
            ]
          },
          "execution_count": 184,
          "metadata": {},
          "output_type": "execute_result"
        }
      ],
      "source": [
        "example = \"<p> What an economic crisis </p>\"\n",
        "removing_html(example)"
      ]
    },
    {
      "cell_type": "code",
      "execution_count": 185,
      "metadata": {
        "id": "zuO7nbM0wtAC"
      },
      "outputs": [],
      "source": [
        "data['text'] = data['text'].apply(lambda x : removing_html(x))"
      ]
    },
    {
      "cell_type": "markdown",
      "metadata": {
        "id": "iEtNh41wmiDk"
      },
      "source": [
        "- Removing @ and rt"
      ]
    },
    {
      "cell_type": "code",
      "execution_count": 186,
      "metadata": {
        "id": "G9kA4bHOmcw2"
      },
      "outputs": [],
      "source": [
        "# removing @\n",
        "def removing_at(data):\n",
        "  return re.sub('@[\\w]+', '', data)"
      ]
    },
    {
      "cell_type": "code",
      "execution_count": 187,
      "metadata": {
        "colab": {
          "base_uri": "https://localhost:8080/",
          "height": 35
        },
        "id": "qDxv4346mczW",
        "outputId": "78bfef23-8ed7-4eea-ea6b-4c1ec877c700"
      },
      "outputs": [
        {
          "data": {
            "application/vnd.google.colaboratory.intrinsic+json": {
              "type": "string"
            },
            "text/plain": [
              "\"bRT : We've created the world's first Spam-detecting AI trained entirely in simulation and deployed on a physical robot: https://t.coâ\\x80¦\""
            ]
          },
          "execution_count": 187,
          "metadata": {},
          "output_type": "execute_result"
        }
      ],
      "source": [
        "example = \"b\"\"RT @OpenAI: We've created the world's first Spam-detecting AI trained entirely in simulation and deployed on a physical robot: https://t.co\\xe2\\x80\\xa6\"\"\"\n",
        "removing_at(example)"
      ]
    },
    {
      "cell_type": "code",
      "execution_count": 188,
      "metadata": {
        "id": "KmrrrA3Lmc2r"
      },
      "outputs": [],
      "source": [
        "data['text'] = data['text'].apply(lambda x : removing_at(x))"
      ]
    },
    {
      "cell_type": "code",
      "execution_count": 189,
      "metadata": {
        "id": "T9SUi30TnuAV"
      },
      "outputs": [],
      "source": [
        "# removing rt\n",
        "def removing_rt(data):\n",
        "  return re.sub('RT', '', data)"
      ]
    },
    {
      "cell_type": "code",
      "execution_count": 190,
      "metadata": {
        "colab": {
          "base_uri": "https://localhost:8080/",
          "height": 35
        },
        "id": "qnLUd8MFpZu0",
        "outputId": "dc494eaf-21e6-42d6-9e95-603a468001a2"
      },
      "outputs": [
        {
          "data": {
            "application/vnd.google.colaboratory.intrinsic+json": {
              "type": "string"
            },
            "text/plain": [
              "\"b @OpenAI: We've created the world's first Spam-detecting AI trained entirely in simulation and deployed on a physical robot: https://t.coâ\\x80¦\""
            ]
          },
          "execution_count": 190,
          "metadata": {},
          "output_type": "execute_result"
        }
      ],
      "source": [
        "example = \"b\"\"RT @OpenAI: We've created the world's first Spam-detecting AI trained entirely in simulation and deployed on a physical robot: https://t.co\\xe2\\x80\\xa6\"\"\"\n",
        "removing_rt(example)"
      ]
    },
    {
      "cell_type": "code",
      "execution_count": 191,
      "metadata": {
        "id": "H-MUfLF2nuGM"
      },
      "outputs": [],
      "source": [
        "data['text'] = data['text'].apply(lambda x : removing_rt(x))"
      ]
    },
    {
      "cell_type": "markdown",
      "metadata": {
        "id": "I13h2R4myY87"
      },
      "source": [
        "- Spelling Correction"
      ]
    },
    {
      "cell_type": "code",
      "execution_count": 192,
      "metadata": {
        "id": "wLxDrP-1wtCl"
      },
      "outputs": [],
      "source": [
        "# !pip install pyspellchecker"
      ]
    },
    {
      "cell_type": "code",
      "execution_count": 193,
      "metadata": {
        "id": "_RnknKsEwtFZ"
      },
      "outputs": [],
      "source": [
        "from spellchecker import SpellChecker\n",
        "\n",
        "spell = SpellChecker()\n",
        "def correct_spellings(data):\n",
        "    corrected_text = []\n",
        "    misspelled_words = spell.unknown(data.split())\n",
        "    for word in data.split():\n",
        "        if word in misspelled_words:\n",
        "            corrected_text.append(spell.correction(word))\n",
        "        else:\n",
        "            corrected_text.append(word)\n",
        "    return \" \".join(corrected_text)"
      ]
    },
    {
      "cell_type": "code",
      "execution_count": 194,
      "metadata": {
        "colab": {
          "base_uri": "https://localhost:8080/",
          "height": 35
        },
        "id": "4mOXotJewtHr",
        "outputId": "f707e652-c036-4fa5-f5df-b59aa8007fec"
      },
      "outputs": [
        {
          "data": {
            "application/vnd.google.colaboratory.intrinsic+json": {
              "type": "string"
            },
            "text/plain": [
              "'please u re an idiot'"
            ]
          },
          "execution_count": 194,
          "metadata": {},
          "output_type": "execute_result"
        }
      ],
      "source": [
        "example = \"pleese u re an idiote\"\n",
        "correct_spellings(example)"
      ]
    },
    {
      "cell_type": "code",
      "execution_count": 195,
      "metadata": {
        "colab": {
          "base_uri": "https://localhost:8080/",
          "height": 206
        },
        "id": "NmCk6LsHDlVl",
        "outputId": "e816a2c2-afca-487a-d334-ba818a8cbcd1"
      },
      "outputs": [
        {
          "data": {
            "text/html": [
              "\n",
              "  <div id=\"df-479f3058-6d9a-461d-ad6a-6fe420e5bea8\">\n",
              "    <div class=\"colab-df-container\">\n",
              "      <div>\n",
              "<style scoped>\n",
              "    .dataframe tbody tr th:only-of-type {\n",
              "        vertical-align: middle;\n",
              "    }\n",
              "\n",
              "    .dataframe tbody tr th {\n",
              "        vertical-align: top;\n",
              "    }\n",
              "\n",
              "    .dataframe thead th {\n",
              "        text-align: right;\n",
              "    }\n",
              "</style>\n",
              "<table border=\"1\" class=\"dataframe\">\n",
              "  <thead>\n",
              "    <tr style=\"text-align: right;\">\n",
              "      <th></th>\n",
              "      <th>id</th>\n",
              "      <th>created_at</th>\n",
              "      <th>text</th>\n",
              "    </tr>\n",
              "  </thead>\n",
              "  <tbody>\n",
              "    <tr>\n",
              "      <th>0</th>\n",
              "      <td>849636868052275200</td>\n",
              "      <td>2017-04-05 14:56:29</td>\n",
              "      <td>bAnd so the robots spared humanity</td>\n",
              "    </tr>\n",
              "    <tr>\n",
              "      <th>1</th>\n",
              "      <td>848988730585096192</td>\n",
              "      <td>2017-04-03 20:01:01</td>\n",
              "      <td>bForIn2020 waltmossberg mims defcon5 Exactly T...</td>\n",
              "    </tr>\n",
              "    <tr>\n",
              "      <th>2</th>\n",
              "      <td>848943072423497728</td>\n",
              "      <td>2017-04-03 16:59:35</td>\n",
              "      <td>bwaltmossberg mims defcon5 Et tu Walt</td>\n",
              "    </tr>\n",
              "    <tr>\n",
              "      <th>3</th>\n",
              "      <td>848935705057280001</td>\n",
              "      <td>2017-04-03 16:30:19</td>\n",
              "      <td>bStormy weather in Shortville</td>\n",
              "    </tr>\n",
              "    <tr>\n",
              "      <th>4</th>\n",
              "      <td>848416049573658624</td>\n",
              "      <td>2017-04-02 06:05:23</td>\n",
              "      <td>bDaveLeeBBC verge Coal is dying due to nat gas...</td>\n",
              "    </tr>\n",
              "  </tbody>\n",
              "</table>\n",
              "</div>\n",
              "      <button class=\"colab-df-convert\" onclick=\"convertToInteractive('df-479f3058-6d9a-461d-ad6a-6fe420e5bea8')\"\n",
              "              title=\"Convert this dataframe to an interactive table.\"\n",
              "              style=\"display:none;\">\n",
              "        \n",
              "  <svg xmlns=\"http://www.w3.org/2000/svg\" height=\"24px\"viewBox=\"0 0 24 24\"\n",
              "       width=\"24px\">\n",
              "    <path d=\"M0 0h24v24H0V0z\" fill=\"none\"/>\n",
              "    <path d=\"M18.56 5.44l.94 2.06.94-2.06 2.06-.94-2.06-.94-.94-2.06-.94 2.06-2.06.94zm-11 1L8.5 8.5l.94-2.06 2.06-.94-2.06-.94L8.5 2.5l-.94 2.06-2.06.94zm10 10l.94 2.06.94-2.06 2.06-.94-2.06-.94-.94-2.06-.94 2.06-2.06.94z\"/><path d=\"M17.41 7.96l-1.37-1.37c-.4-.4-.92-.59-1.43-.59-.52 0-1.04.2-1.43.59L10.3 9.45l-7.72 7.72c-.78.78-.78 2.05 0 2.83L4 21.41c.39.39.9.59 1.41.59.51 0 1.02-.2 1.41-.59l7.78-7.78 2.81-2.81c.8-.78.8-2.07 0-2.86zM5.41 20L4 18.59l7.72-7.72 1.47 1.35L5.41 20z\"/>\n",
              "  </svg>\n",
              "      </button>\n",
              "      \n",
              "  <style>\n",
              "    .colab-df-container {\n",
              "      display:flex;\n",
              "      flex-wrap:wrap;\n",
              "      gap: 12px;\n",
              "    }\n",
              "\n",
              "    .colab-df-convert {\n",
              "      background-color: #E8F0FE;\n",
              "      border: none;\n",
              "      border-radius: 50%;\n",
              "      cursor: pointer;\n",
              "      display: none;\n",
              "      fill: #1967D2;\n",
              "      height: 32px;\n",
              "      padding: 0 0 0 0;\n",
              "      width: 32px;\n",
              "    }\n",
              "\n",
              "    .colab-df-convert:hover {\n",
              "      background-color: #E2EBFA;\n",
              "      box-shadow: 0px 1px 2px rgba(60, 64, 67, 0.3), 0px 1px 3px 1px rgba(60, 64, 67, 0.15);\n",
              "      fill: #174EA6;\n",
              "    }\n",
              "\n",
              "    [theme=dark] .colab-df-convert {\n",
              "      background-color: #3B4455;\n",
              "      fill: #D2E3FC;\n",
              "    }\n",
              "\n",
              "    [theme=dark] .colab-df-convert:hover {\n",
              "      background-color: #434B5C;\n",
              "      box-shadow: 0px 1px 3px 1px rgba(0, 0, 0, 0.15);\n",
              "      filter: drop-shadow(0px 1px 2px rgba(0, 0, 0, 0.3));\n",
              "      fill: #FFFFFF;\n",
              "    }\n",
              "  </style>\n",
              "\n",
              "      <script>\n",
              "        const buttonEl =\n",
              "          document.querySelector('#df-479f3058-6d9a-461d-ad6a-6fe420e5bea8 button.colab-df-convert');\n",
              "        buttonEl.style.display =\n",
              "          google.colab.kernel.accessAllowed ? 'block' : 'none';\n",
              "\n",
              "        async function convertToInteractive(key) {\n",
              "          const element = document.querySelector('#df-479f3058-6d9a-461d-ad6a-6fe420e5bea8');\n",
              "          const dataTable =\n",
              "            await google.colab.kernel.invokeFunction('convertToInteractive',\n",
              "                                                     [key], {});\n",
              "          if (!dataTable) return;\n",
              "\n",
              "          const docLinkHtml = 'Like what you see? Visit the ' +\n",
              "            '<a target=\"_blank\" href=https://colab.research.google.com/notebooks/data_table.ipynb>data table notebook</a>'\n",
              "            + ' to learn more about interactive tables.';\n",
              "          element.innerHTML = '';\n",
              "          dataTable['output_type'] = 'display_data';\n",
              "          await google.colab.output.renderOutput(dataTable, element);\n",
              "          const docLink = document.createElement('div');\n",
              "          docLink.innerHTML = docLinkHtml;\n",
              "          element.appendChild(docLink);\n",
              "        }\n",
              "      </script>\n",
              "    </div>\n",
              "  </div>\n",
              "  "
            ],
            "text/plain": [
              "                   id           created_at  \\\n",
              "0  849636868052275200  2017-04-05 14:56:29   \n",
              "1  848988730585096192  2017-04-03 20:01:01   \n",
              "2  848943072423497728  2017-04-03 16:59:35   \n",
              "3  848935705057280001  2017-04-03 16:30:19   \n",
              "4  848416049573658624  2017-04-02 06:05:23   \n",
              "\n",
              "                                                text  \n",
              "0               bAnd so the robots spared humanity    \n",
              "1  bForIn2020 waltmossberg mims defcon5 Exactly T...  \n",
              "2              bwaltmossberg mims defcon5 Et tu Walt  \n",
              "3                     bStormy weather in Shortville   \n",
              "4  bDaveLeeBBC verge Coal is dying due to nat gas...  "
            ]
          },
          "execution_count": 195,
          "metadata": {},
          "output_type": "execute_result"
        }
      ],
      "source": [
        "data.head(5)"
      ]
    },
    {
      "cell_type": "markdown",
      "metadata": {
        "id": "7_s1YnFIzqbY"
      },
      "source": [
        "### 2- Apply word embedding to the pre-processed tweets, using the GloVe model "
      ]
    },
    {
      "cell_type": "code",
      "execution_count": 196,
      "metadata": {
        "id": "x3oKEOuen8_5"
      },
      "outputs": [],
      "source": [
        "# def create_corpus(data):\n",
        "#     corpus = []\n",
        "#     for tweet in tqdm(data['text']):\n",
        "#         words=[word.lower() for word in word_tokenize(tweet) if((word.isalpha()==1) & (word not in stop))]\n",
        "#         corpus.append(words)\n",
        "#     return corpus"
      ]
    },
    {
      "cell_type": "code",
      "execution_count": 197,
      "metadata": {
        "id": "7hrUl0irnHkE"
      },
      "outputs": [],
      "source": [
        "# corpus=create_corpus(data)"
      ]
    },
    {
      "cell_type": "code",
      "execution_count": 198,
      "metadata": {
        "colab": {
          "base_uri": "https://localhost:8080/",
          "height": 206
        },
        "id": "aSip3BQlE6O-",
        "outputId": "bd97f15c-9b9a-44a1-e1a2-3716e56c0f89"
      },
      "outputs": [
        {
          "data": {
            "text/html": [
              "\n",
              "  <div id=\"df-8b442fb1-41c6-4316-a699-fc5b35f58132\">\n",
              "    <div class=\"colab-df-container\">\n",
              "      <div>\n",
              "<style scoped>\n",
              "    .dataframe tbody tr th:only-of-type {\n",
              "        vertical-align: middle;\n",
              "    }\n",
              "\n",
              "    .dataframe tbody tr th {\n",
              "        vertical-align: top;\n",
              "    }\n",
              "\n",
              "    .dataframe thead th {\n",
              "        text-align: right;\n",
              "    }\n",
              "</style>\n",
              "<table border=\"1\" class=\"dataframe\">\n",
              "  <thead>\n",
              "    <tr style=\"text-align: right;\">\n",
              "      <th></th>\n",
              "      <th>id</th>\n",
              "      <th>created_at</th>\n",
              "      <th>text</th>\n",
              "      <th>tokenized_text</th>\n",
              "    </tr>\n",
              "  </thead>\n",
              "  <tbody>\n",
              "    <tr>\n",
              "      <th>0</th>\n",
              "      <td>849636868052275200</td>\n",
              "      <td>2017-04-05 14:56:29</td>\n",
              "      <td>bAnd so the robots spared humanity</td>\n",
              "      <td>[band, so, the, robots, spared, humanity]</td>\n",
              "    </tr>\n",
              "    <tr>\n",
              "      <th>1</th>\n",
              "      <td>848988730585096192</td>\n",
              "      <td>2017-04-03 20:01:01</td>\n",
              "      <td>bForIn2020 waltmossberg mims defcon5 Exactly T...</td>\n",
              "      <td>[bforin, waltmossberg, mims, defcon, exactly, ...</td>\n",
              "    </tr>\n",
              "    <tr>\n",
              "      <th>2</th>\n",
              "      <td>848943072423497728</td>\n",
              "      <td>2017-04-03 16:59:35</td>\n",
              "      <td>bwaltmossberg mims defcon5 Et tu Walt</td>\n",
              "      <td>[bwaltmossberg, mims, defcon, et, tu, walt]</td>\n",
              "    </tr>\n",
              "    <tr>\n",
              "      <th>3</th>\n",
              "      <td>848935705057280001</td>\n",
              "      <td>2017-04-03 16:30:19</td>\n",
              "      <td>bStormy weather in Shortville</td>\n",
              "      <td>[bstormy, weather, in, shortville]</td>\n",
              "    </tr>\n",
              "    <tr>\n",
              "      <th>4</th>\n",
              "      <td>848416049573658624</td>\n",
              "      <td>2017-04-02 06:05:23</td>\n",
              "      <td>bDaveLeeBBC verge Coal is dying due to nat gas...</td>\n",
              "      <td>[bdaveleebbc, verge, coal, is, dying, due, to,...</td>\n",
              "    </tr>\n",
              "  </tbody>\n",
              "</table>\n",
              "</div>\n",
              "      <button class=\"colab-df-convert\" onclick=\"convertToInteractive('df-8b442fb1-41c6-4316-a699-fc5b35f58132')\"\n",
              "              title=\"Convert this dataframe to an interactive table.\"\n",
              "              style=\"display:none;\">\n",
              "        \n",
              "  <svg xmlns=\"http://www.w3.org/2000/svg\" height=\"24px\"viewBox=\"0 0 24 24\"\n",
              "       width=\"24px\">\n",
              "    <path d=\"M0 0h24v24H0V0z\" fill=\"none\"/>\n",
              "    <path d=\"M18.56 5.44l.94 2.06.94-2.06 2.06-.94-2.06-.94-.94-2.06-.94 2.06-2.06.94zm-11 1L8.5 8.5l.94-2.06 2.06-.94-2.06-.94L8.5 2.5l-.94 2.06-2.06.94zm10 10l.94 2.06.94-2.06 2.06-.94-2.06-.94-.94-2.06-.94 2.06-2.06.94z\"/><path d=\"M17.41 7.96l-1.37-1.37c-.4-.4-.92-.59-1.43-.59-.52 0-1.04.2-1.43.59L10.3 9.45l-7.72 7.72c-.78.78-.78 2.05 0 2.83L4 21.41c.39.39.9.59 1.41.59.51 0 1.02-.2 1.41-.59l7.78-7.78 2.81-2.81c.8-.78.8-2.07 0-2.86zM5.41 20L4 18.59l7.72-7.72 1.47 1.35L5.41 20z\"/>\n",
              "  </svg>\n",
              "      </button>\n",
              "      \n",
              "  <style>\n",
              "    .colab-df-container {\n",
              "      display:flex;\n",
              "      flex-wrap:wrap;\n",
              "      gap: 12px;\n",
              "    }\n",
              "\n",
              "    .colab-df-convert {\n",
              "      background-color: #E8F0FE;\n",
              "      border: none;\n",
              "      border-radius: 50%;\n",
              "      cursor: pointer;\n",
              "      display: none;\n",
              "      fill: #1967D2;\n",
              "      height: 32px;\n",
              "      padding: 0 0 0 0;\n",
              "      width: 32px;\n",
              "    }\n",
              "\n",
              "    .colab-df-convert:hover {\n",
              "      background-color: #E2EBFA;\n",
              "      box-shadow: 0px 1px 2px rgba(60, 64, 67, 0.3), 0px 1px 3px 1px rgba(60, 64, 67, 0.15);\n",
              "      fill: #174EA6;\n",
              "    }\n",
              "\n",
              "    [theme=dark] .colab-df-convert {\n",
              "      background-color: #3B4455;\n",
              "      fill: #D2E3FC;\n",
              "    }\n",
              "\n",
              "    [theme=dark] .colab-df-convert:hover {\n",
              "      background-color: #434B5C;\n",
              "      box-shadow: 0px 1px 3px 1px rgba(0, 0, 0, 0.15);\n",
              "      filter: drop-shadow(0px 1px 2px rgba(0, 0, 0, 0.3));\n",
              "      fill: #FFFFFF;\n",
              "    }\n",
              "  </style>\n",
              "\n",
              "      <script>\n",
              "        const buttonEl =\n",
              "          document.querySelector('#df-8b442fb1-41c6-4316-a699-fc5b35f58132 button.colab-df-convert');\n",
              "        buttonEl.style.display =\n",
              "          google.colab.kernel.accessAllowed ? 'block' : 'none';\n",
              "\n",
              "        async function convertToInteractive(key) {\n",
              "          const element = document.querySelector('#df-8b442fb1-41c6-4316-a699-fc5b35f58132');\n",
              "          const dataTable =\n",
              "            await google.colab.kernel.invokeFunction('convertToInteractive',\n",
              "                                                     [key], {});\n",
              "          if (!dataTable) return;\n",
              "\n",
              "          const docLinkHtml = 'Like what you see? Visit the ' +\n",
              "            '<a target=\"_blank\" href=https://colab.research.google.com/notebooks/data_table.ipynb>data table notebook</a>'\n",
              "            + ' to learn more about interactive tables.';\n",
              "          element.innerHTML = '';\n",
              "          dataTable['output_type'] = 'display_data';\n",
              "          await google.colab.output.renderOutput(dataTable, element);\n",
              "          const docLink = document.createElement('div');\n",
              "          docLink.innerHTML = docLinkHtml;\n",
              "          element.appendChild(docLink);\n",
              "        }\n",
              "      </script>\n",
              "    </div>\n",
              "  </div>\n",
              "  "
            ],
            "text/plain": [
              "                   id           created_at  \\\n",
              "0  849636868052275200  2017-04-05 14:56:29   \n",
              "1  848988730585096192  2017-04-03 20:01:01   \n",
              "2  848943072423497728  2017-04-03 16:59:35   \n",
              "3  848935705057280001  2017-04-03 16:30:19   \n",
              "4  848416049573658624  2017-04-02 06:05:23   \n",
              "\n",
              "                                                text  \\\n",
              "0               bAnd so the robots spared humanity     \n",
              "1  bForIn2020 waltmossberg mims defcon5 Exactly T...   \n",
              "2              bwaltmossberg mims defcon5 Et tu Walt   \n",
              "3                     bStormy weather in Shortville    \n",
              "4  bDaveLeeBBC verge Coal is dying due to nat gas...   \n",
              "\n",
              "                                      tokenized_text  \n",
              "0          [band, so, the, robots, spared, humanity]  \n",
              "1  [bforin, waltmossberg, mims, defcon, exactly, ...  \n",
              "2        [bwaltmossberg, mims, defcon, et, tu, walt]  \n",
              "3                 [bstormy, weather, in, shortville]  \n",
              "4  [bdaveleebbc, verge, coal, is, dying, due, to,...  "
            ]
          },
          "execution_count": 198,
          "metadata": {},
          "output_type": "execute_result"
        }
      ],
      "source": [
        "from gensim.utils import simple_preprocess\n",
        "\n",
        "# This is a tokenization to get a new column calling 'tokenized_text' from the 'text' column\n",
        "data['tokenized_text'] = data['text'].apply(lambda x : simple_preprocess(x.lower())) \n",
        "data.head(5)"
      ]
    },
    {
      "cell_type": "code",
      "execution_count": 199,
      "metadata": {
        "id": "jT8A6c8InHzI"
      },
      "outputs": [],
      "source": [
        "embedding_dict = {}\n",
        "with open('./glove.6B.300d.txt','r') as f:\n",
        "    for line in f:\n",
        "        values = line.split()\n",
        "        word = values[0]\n",
        "        vectors = np.asarray(values[1:],'float32')\n",
        "        embedding_dict[word] = vectors\n",
        "f.close()"
      ]
    },
    {
      "cell_type": "code",
      "execution_count": 200,
      "metadata": {
        "id": "Lyt8118t-97A"
      },
      "outputs": [],
      "source": [
        "def vectorization(tokenized_sentence):\n",
        "    result = []\n",
        "    for token in tokenized_sentence:\n",
        "        if(token in embedding_dict.keys()):\n",
        "            result.append(embedding_dict[token])\n",
        "    return np.mean(result, axis=0)"
      ]
    },
    {
      "cell_type": "code",
      "execution_count": 201,
      "metadata": {
        "colab": {
          "base_uri": "https://localhost:8080/"
        },
        "id": "KJp0qikCnIAp",
        "outputId": "c38a5925-6b30-494c-e586-df9b7125fe19"
      },
      "outputs": [
        {
          "name": "stderr",
          "output_type": "stream",
          "text": [
            "/usr/local/lib/python3.7/dist-packages/numpy/core/fromnumeric.py:3441: RuntimeWarning: Mean of empty slice.\n",
            "  out=out, **kwargs)\n"
          ]
        }
      ],
      "source": [
        "data['vectorized_text'] = data['tokenized_text'].apply(vectorization)"
      ]
    },
    {
      "cell_type": "code",
      "execution_count": 202,
      "metadata": {
        "colab": {
          "base_uri": "https://localhost:8080/"
        },
        "id": "guru1DHfnIDb",
        "outputId": "e47364d6-91c7-44df-9fbf-08202914fdad"
      },
      "outputs": [
        {
          "data": {
            "text/plain": [
              "0    [-0.069005005, 0.1265175, -0.17781524, -0.2292...\n",
              "1    [-0.04908701, 0.15421282, -0.019111756, 0.1046...\n",
              "2    [-0.086360596, 0.021570003, 0.033818595, 0.172...\n",
              "3    [-0.22167821, -0.28544, -0.3566, -0.272615, -0...\n",
              "4    [0.13943791, 0.20099533, 0.083782665, -0.12666...\n",
              "Name: vectorized_text, dtype: object"
            ]
          },
          "execution_count": 202,
          "metadata": {},
          "output_type": "execute_result"
        }
      ],
      "source": [
        "data['vectorized_text'].head(5)"
      ]
    },
    {
      "cell_type": "markdown",
      "metadata": {
        "id": "YeUdQqH4IXmH"
      },
      "source": [
        "### 3- Apply word embeddings to the search query."
      ]
    },
    {
      "cell_type": "code",
      "execution_count": 203,
      "metadata": {
        "colab": {
          "base_uri": "https://localhost:8080/"
        },
        "id": "KEU8Ouq7IR_W",
        "outputId": "88f5cdeb-e119-4717-f237-ec591d1c0b2f"
      },
      "outputs": [
        {
          "data": {
            "text/plain": [
              "array([-0.16498132, -0.0360894 , -0.22653618, -0.07282434, -0.6516655 ,\n",
              "        0.0167934 , -0.16408329,  0.2117085 , -0.33325586, -1.0505891 ,\n",
              "       -0.0386307 ,  0.04003889, -0.44517103,  0.21720381], dtype=float32)"
            ]
          },
          "execution_count": 203,
          "metadata": {},
          "output_type": "execute_result"
        }
      ],
      "source": [
        "sentence = \"Let's go Bryan\"\n",
        "vectorized_sentence = vectorization(sentence)\n",
        "vectorized_sentence[:14]"
      ]
    },
    {
      "cell_type": "markdown",
      "metadata": {
        "id": "uTyjme_fKy5w"
      },
      "source": [
        "### 4- Calculate the distance between the embeddings of the search query and that of all the tweets"
      ]
    },
    {
      "cell_type": "code",
      "execution_count": 204,
      "metadata": {
        "id": "OeGQn0kYKzue"
      },
      "outputs": [],
      "source": [
        "tweet = data['vectorized_text'].iloc[0]\n",
        "tweet_bis = data['vectorized_text'].iloc[10]"
      ]
    },
    {
      "cell_type": "code",
      "execution_count": 205,
      "metadata": {
        "colab": {
          "base_uri": "https://localhost:8080/"
        },
        "id": "-yD5hk0FNNhp",
        "outputId": "d0c23be2-8757-4563-8f44-3a78d4a79297"
      },
      "outputs": [
        {
          "name": "stdout",
          "output_type": "stream",
          "text": [
            "0.7164156436920166\n"
          ]
        }
      ],
      "source": [
        "from scipy.spatial import distance\n",
        "\n",
        "# This is used to calculate the the cosine similarity\n",
        "cosine_sim = 1 - distance.cosine(tweet, tweet_bis)\n",
        "print(cosine_sim)"
      ]
    },
    {
      "cell_type": "code",
      "execution_count": 206,
      "metadata": {
        "colab": {
          "base_uri": "https://localhost:8080/"
        },
        "id": "fbzuSktxNNkU",
        "outputId": "b938aed2-cf8f-4043-8254-a4da206df478"
      },
      "outputs": [
        {
          "name": "stdout",
          "output_type": "stream",
          "text": [
            "2.3490452766418457\n"
          ]
        }
      ],
      "source": [
        "euclidean_sim = distance.euclidean(tweet, tweet_bis)\n",
        "print(euclidean_sim)"
      ]
    },
    {
      "cell_type": "code",
      "execution_count": 207,
      "metadata": {
        "id": "iPCZZ4AoQqlI"
      },
      "outputs": [],
      "source": [
        "tweet = tweet.reshape(tweet.shape[0], 1)\n",
        "tweet_bis = tweet.reshape(tweet_bis.shape[0], 1)"
      ]
    },
    {
      "cell_type": "code",
      "execution_count": 208,
      "metadata": {
        "colab": {
          "base_uri": "https://localhost:8080/"
        },
        "id": "89tfj2TPRDVx",
        "outputId": "5af2edb2-6a7a-4989-af02-d69b8ec83759"
      },
      "outputs": [
        {
          "name": "stdout",
          "output_type": "stream",
          "text": [
            "(300, 1)\n",
            "(300, 1)\n"
          ]
        }
      ],
      "source": [
        "print(tweet.shape)\n",
        "print(tweet_bis.shape)"
      ]
    },
    {
      "cell_type": "code",
      "execution_count": 209,
      "metadata": {
        "colab": {
          "base_uri": "https://localhost:8080/"
        },
        "id": "CxWdx4OKQjD6",
        "outputId": "90536721-790f-44a5-f187-386311afb5b0"
      },
      "outputs": [
        {
          "data": {
            "text/plain": [
              "array([[0.        , 0.19552252, 0.10881024, ..., 0.17932352, 0.08122475,\n",
              "        0.0042855 ],\n",
              "       [0.19552252, 0.        , 0.30433273, ..., 0.01619899, 0.11429776,\n",
              "        0.19123702],\n",
              "       [0.10881024, 0.30433273, 0.        , ..., 0.28813377, 0.190035  ,\n",
              "        0.11309574],\n",
              "       ...,\n",
              "       [0.17932352, 0.01619899, 0.28813377, ..., 0.        , 0.09809877,\n",
              "        0.17503802],\n",
              "       [0.08122475, 0.11429776, 0.190035  , ..., 0.09809877, 0.        ,\n",
              "        0.07693925],\n",
              "       [0.0042855 , 0.19123702, 0.11309574, ..., 0.17503802, 0.07693925,\n",
              "        0.        ]], dtype=float32)"
            ]
          },
          "execution_count": 209,
          "metadata": {},
          "output_type": "execute_result"
        }
      ],
      "source": [
        "from sklearn.metrics.pairwise import euclidean_distances\n",
        "\n",
        "euclidean_distances(tweet, tweet_bis)"
      ]
    },
    {
      "cell_type": "markdown",
      "metadata": {
        "id": "0e3yt93hNURa"
      },
      "source": [
        "#### Top 5 tweets relating to this query for cosine similarity algorithm "
      ]
    },
    {
      "cell_type": "code",
      "execution_count": 210,
      "metadata": {
        "colab": {
          "base_uri": "https://localhost:8080/",
          "height": 206
        },
        "id": "GR60odnPNNm4",
        "outputId": "f0dd5148-4251-45a3-8ef9-e38ae0025aa4"
      },
      "outputs": [
        {
          "data": {
            "text/html": [
              "\n",
              "  <div id=\"df-ca8d0d36-8769-4fbb-9382-bc941b309fe3\">\n",
              "    <div class=\"colab-df-container\">\n",
              "      <div>\n",
              "<style scoped>\n",
              "    .dataframe tbody tr th:only-of-type {\n",
              "        vertical-align: middle;\n",
              "    }\n",
              "\n",
              "    .dataframe tbody tr th {\n",
              "        vertical-align: top;\n",
              "    }\n",
              "\n",
              "    .dataframe thead th {\n",
              "        text-align: right;\n",
              "    }\n",
              "</style>\n",
              "<table border=\"1\" class=\"dataframe\">\n",
              "  <thead>\n",
              "    <tr style=\"text-align: right;\">\n",
              "      <th></th>\n",
              "      <th>id</th>\n",
              "      <th>created_at</th>\n",
              "      <th>text</th>\n",
              "      <th>tokenized_text</th>\n",
              "      <th>vectorized_text</th>\n",
              "      <th>cosine_sim</th>\n",
              "    </tr>\n",
              "  </thead>\n",
              "  <tbody>\n",
              "    <tr>\n",
              "      <th>1571</th>\n",
              "      <td>594756342641922048</td>\n",
              "      <td>2015-05-03 06:52:16</td>\n",
              "      <td>bWhile I like the initials Id take the socalle...</td>\n",
              "      <td>[bwhile, like, the, initials, id, take, the, s...</td>\n",
              "      <td>[-0.20209053, 0.15966749, -0.12788168, -0.1864...</td>\n",
              "      <td>0.508909</td>\n",
              "    </tr>\n",
              "    <tr>\n",
              "      <th>2531</th>\n",
              "      <td>259527804339769344</td>\n",
              "      <td>2012-10-20 05:33:45</td>\n",
              "      <td>b TeslaMotors Tesla Supercharger network opens...</td>\n",
              "      <td>[teslamotors, tesla, supercharger, network, op...</td>\n",
              "      <td>[-0.07228046, 0.08442138, -0.1184677, -0.10358...</td>\n",
              "      <td>0.508432</td>\n",
              "    </tr>\n",
              "    <tr>\n",
              "      <th>225</th>\n",
              "      <td>828297251026001924</td>\n",
              "      <td>2017-02-05 17:40:28</td>\n",
              "      <td>bmarcelsalathe Not perfect amp cd be better bu...</td>\n",
              "      <td>[bmarcelsalathe, not, perfect, amp, cd, be, be...</td>\n",
              "      <td>[-0.07211473, 0.1277933, -0.07457692, -0.13254...</td>\n",
              "      <td>0.502800</td>\n",
              "    </tr>\n",
              "    <tr>\n",
              "      <th>2168</th>\n",
              "      <td>338115331891556352</td>\n",
              "      <td>2013-05-25 02:12:31</td>\n",
              "      <td>bTechnically I got rich from Zip2 amp PayPal w...</td>\n",
              "      <td>[btechnically, got, rich, from, zip, amp, payp...</td>\n",
              "      <td>[-0.0480614, 0.02388083, -0.081196524, -0.0241...</td>\n",
              "      <td>0.502199</td>\n",
              "    </tr>\n",
              "    <tr>\n",
              "      <th>712</th>\n",
              "      <td>768266353572585472</td>\n",
              "      <td>2016-08-24 01:59:07</td>\n",
              "      <td>b TeslaMotors Introducing P100D with Ludicrous...</td>\n",
              "      <td>[teslamotors, introducing, with, ludicrous, mo...</td>\n",
              "      <td>[-0.13674676, 0.28292993, 0.07578609, -0.08817...</td>\n",
              "      <td>0.501733</td>\n",
              "    </tr>\n",
              "  </tbody>\n",
              "</table>\n",
              "</div>\n",
              "      <button class=\"colab-df-convert\" onclick=\"convertToInteractive('df-ca8d0d36-8769-4fbb-9382-bc941b309fe3')\"\n",
              "              title=\"Convert this dataframe to an interactive table.\"\n",
              "              style=\"display:none;\">\n",
              "        \n",
              "  <svg xmlns=\"http://www.w3.org/2000/svg\" height=\"24px\"viewBox=\"0 0 24 24\"\n",
              "       width=\"24px\">\n",
              "    <path d=\"M0 0h24v24H0V0z\" fill=\"none\"/>\n",
              "    <path d=\"M18.56 5.44l.94 2.06.94-2.06 2.06-.94-2.06-.94-.94-2.06-.94 2.06-2.06.94zm-11 1L8.5 8.5l.94-2.06 2.06-.94-2.06-.94L8.5 2.5l-.94 2.06-2.06.94zm10 10l.94 2.06.94-2.06 2.06-.94-2.06-.94-.94-2.06-.94 2.06-2.06.94z\"/><path d=\"M17.41 7.96l-1.37-1.37c-.4-.4-.92-.59-1.43-.59-.52 0-1.04.2-1.43.59L10.3 9.45l-7.72 7.72c-.78.78-.78 2.05 0 2.83L4 21.41c.39.39.9.59 1.41.59.51 0 1.02-.2 1.41-.59l7.78-7.78 2.81-2.81c.8-.78.8-2.07 0-2.86zM5.41 20L4 18.59l7.72-7.72 1.47 1.35L5.41 20z\"/>\n",
              "  </svg>\n",
              "      </button>\n",
              "      \n",
              "  <style>\n",
              "    .colab-df-container {\n",
              "      display:flex;\n",
              "      flex-wrap:wrap;\n",
              "      gap: 12px;\n",
              "    }\n",
              "\n",
              "    .colab-df-convert {\n",
              "      background-color: #E8F0FE;\n",
              "      border: none;\n",
              "      border-radius: 50%;\n",
              "      cursor: pointer;\n",
              "      display: none;\n",
              "      fill: #1967D2;\n",
              "      height: 32px;\n",
              "      padding: 0 0 0 0;\n",
              "      width: 32px;\n",
              "    }\n",
              "\n",
              "    .colab-df-convert:hover {\n",
              "      background-color: #E2EBFA;\n",
              "      box-shadow: 0px 1px 2px rgba(60, 64, 67, 0.3), 0px 1px 3px 1px rgba(60, 64, 67, 0.15);\n",
              "      fill: #174EA6;\n",
              "    }\n",
              "\n",
              "    [theme=dark] .colab-df-convert {\n",
              "      background-color: #3B4455;\n",
              "      fill: #D2E3FC;\n",
              "    }\n",
              "\n",
              "    [theme=dark] .colab-df-convert:hover {\n",
              "      background-color: #434B5C;\n",
              "      box-shadow: 0px 1px 3px 1px rgba(0, 0, 0, 0.15);\n",
              "      filter: drop-shadow(0px 1px 2px rgba(0, 0, 0, 0.3));\n",
              "      fill: #FFFFFF;\n",
              "    }\n",
              "  </style>\n",
              "\n",
              "      <script>\n",
              "        const buttonEl =\n",
              "          document.querySelector('#df-ca8d0d36-8769-4fbb-9382-bc941b309fe3 button.colab-df-convert');\n",
              "        buttonEl.style.display =\n",
              "          google.colab.kernel.accessAllowed ? 'block' : 'none';\n",
              "\n",
              "        async function convertToInteractive(key) {\n",
              "          const element = document.querySelector('#df-ca8d0d36-8769-4fbb-9382-bc941b309fe3');\n",
              "          const dataTable =\n",
              "            await google.colab.kernel.invokeFunction('convertToInteractive',\n",
              "                                                     [key], {});\n",
              "          if (!dataTable) return;\n",
              "\n",
              "          const docLinkHtml = 'Like what you see? Visit the ' +\n",
              "            '<a target=\"_blank\" href=https://colab.research.google.com/notebooks/data_table.ipynb>data table notebook</a>'\n",
              "            + ' to learn more about interactive tables.';\n",
              "          element.innerHTML = '';\n",
              "          dataTable['output_type'] = 'display_data';\n",
              "          await google.colab.output.renderOutput(dataTable, element);\n",
              "          const docLink = document.createElement('div');\n",
              "          docLink.innerHTML = docLinkHtml;\n",
              "          element.appendChild(docLink);\n",
              "        }\n",
              "      </script>\n",
              "    </div>\n",
              "  </div>\n",
              "  "
            ],
            "text/plain": [
              "                      id           created_at  \\\n",
              "1571  594756342641922048  2015-05-03 06:52:16   \n",
              "2531  259527804339769344  2012-10-20 05:33:45   \n",
              "225   828297251026001924  2017-02-05 17:40:28   \n",
              "2168  338115331891556352  2013-05-25 02:12:31   \n",
              "712   768266353572585472  2016-08-24 01:59:07   \n",
              "\n",
              "                                                   text  \\\n",
              "1571  bWhile I like the initials Id take the socalle...   \n",
              "2531  b TeslaMotors Tesla Supercharger network opens...   \n",
              "225   bmarcelsalathe Not perfect amp cd be better bu...   \n",
              "2168  bTechnically I got rich from Zip2 amp PayPal w...   \n",
              "712   b TeslaMotors Introducing P100D with Ludicrous...   \n",
              "\n",
              "                                         tokenized_text  \\\n",
              "1571  [bwhile, like, the, initials, id, take, the, s...   \n",
              "2531  [teslamotors, tesla, supercharger, network, op...   \n",
              "225   [bmarcelsalathe, not, perfect, amp, cd, be, be...   \n",
              "2168  [btechnically, got, rich, from, zip, amp, payp...   \n",
              "712   [teslamotors, introducing, with, ludicrous, mo...   \n",
              "\n",
              "                                        vectorized_text  cosine_sim  \n",
              "1571  [-0.20209053, 0.15966749, -0.12788168, -0.1864...    0.508909  \n",
              "2531  [-0.07228046, 0.08442138, -0.1184677, -0.10358...    0.508432  \n",
              "225   [-0.07211473, 0.1277933, -0.07457692, -0.13254...    0.502800  \n",
              "2168  [-0.0480614, 0.02388083, -0.081196524, -0.0241...    0.502199  \n",
              "712   [-0.13674676, 0.28292993, 0.07578609, -0.08817...    0.501733  "
            ]
          },
          "execution_count": 210,
          "metadata": {},
          "output_type": "execute_result"
        }
      ],
      "source": [
        "data['cosine_sim'] = data['vectorized_text'].apply(lambda x: 1 - distance.cosine(x, vectorized_sentence))\n",
        "data.sort_values(by=['cosine_sim'], ascending=False).head(5)"
      ]
    },
    {
      "cell_type": "markdown",
      "metadata": {
        "id": "--7aCYUrNbEF"
      },
      "source": [
        "#### Top 5 tweets relating to this query for euclidean distance algorithm "
      ]
    },
    {
      "cell_type": "code",
      "execution_count": 211,
      "metadata": {
        "colab": {
          "base_uri": "https://localhost:8080/",
          "height": 337
        },
        "id": "A2bJI3VuNNpt",
        "outputId": "b8e75bb4-c4d4-4c3c-a310-004f5a9e1e83"
      },
      "outputs": [
        {
          "data": {
            "text/html": [
              "\n",
              "  <div id=\"df-341af555-724f-48d4-a9d1-e316e3278919\">\n",
              "    <div class=\"colab-df-container\">\n",
              "      <div>\n",
              "<style scoped>\n",
              "    .dataframe tbody tr th:only-of-type {\n",
              "        vertical-align: middle;\n",
              "    }\n",
              "\n",
              "    .dataframe tbody tr th {\n",
              "        vertical-align: top;\n",
              "    }\n",
              "\n",
              "    .dataframe thead th {\n",
              "        text-align: right;\n",
              "    }\n",
              "</style>\n",
              "<table border=\"1\" class=\"dataframe\">\n",
              "  <thead>\n",
              "    <tr style=\"text-align: right;\">\n",
              "      <th></th>\n",
              "      <th>id</th>\n",
              "      <th>created_at</th>\n",
              "      <th>text</th>\n",
              "      <th>tokenized_text</th>\n",
              "      <th>vectorized_text</th>\n",
              "      <th>cosine_sim</th>\n",
              "      <th>euclidean_sim</th>\n",
              "    </tr>\n",
              "  </thead>\n",
              "  <tbody>\n",
              "    <tr>\n",
              "      <th>2531</th>\n",
              "      <td>259527804339769344</td>\n",
              "      <td>2012-10-20 05:33:45</td>\n",
              "      <td>b TeslaMotors Tesla Supercharger network opens...</td>\n",
              "      <td>[teslamotors, tesla, supercharger, network, op...</td>\n",
              "      <td>[-0.07228046, 0.08442138, -0.1184677, -0.10358...</td>\n",
              "      <td>0.508432</td>\n",
              "      <td>3.800812</td>\n",
              "    </tr>\n",
              "    <tr>\n",
              "      <th>1571</th>\n",
              "      <td>594756342641922048</td>\n",
              "      <td>2015-05-03 06:52:16</td>\n",
              "      <td>bWhile I like the initials Id take the socalle...</td>\n",
              "      <td>[bwhile, like, the, initials, id, take, the, s...</td>\n",
              "      <td>[-0.20209053, 0.15966749, -0.12788168, -0.1864...</td>\n",
              "      <td>0.508909</td>\n",
              "      <td>3.803121</td>\n",
              "    </tr>\n",
              "    <tr>\n",
              "      <th>2168</th>\n",
              "      <td>338115331891556352</td>\n",
              "      <td>2013-05-25 02:12:31</td>\n",
              "      <td>bTechnically I got rich from Zip2 amp PayPal w...</td>\n",
              "      <td>[btechnically, got, rich, from, zip, amp, payp...</td>\n",
              "      <td>[-0.0480614, 0.02388083, -0.081196524, -0.0241...</td>\n",
              "      <td>0.502199</td>\n",
              "      <td>3.806347</td>\n",
              "    </tr>\n",
              "    <tr>\n",
              "      <th>2529</th>\n",
              "      <td>262365909757358080</td>\n",
              "      <td>2012-10-28 01:31:22</td>\n",
              "      <td>bDoing LA to SF road trip in Model S with all ...</td>\n",
              "      <td>[bdoing, la, to, sf, road, trip, in, model, wi...</td>\n",
              "      <td>[0.006311951, 0.22930056, -0.059599612, -0.018...</td>\n",
              "      <td>0.496812</td>\n",
              "      <td>3.843287</td>\n",
              "    </tr>\n",
              "    <tr>\n",
              "      <th>2451</th>\n",
              "      <td>295162137297428480</td>\n",
              "      <td>2013-01-26 13:31:52</td>\n",
              "      <td>bDesire to help Boeing is real amp am correspo...</td>\n",
              "      <td>[bdesire, to, help, boeing, is, real, amp, am,...</td>\n",
              "      <td>[-0.022214685, 0.086267844, -0.019535271, -0.1...</td>\n",
              "      <td>0.500602</td>\n",
              "      <td>3.852934</td>\n",
              "    </tr>\n",
              "  </tbody>\n",
              "</table>\n",
              "</div>\n",
              "      <button class=\"colab-df-convert\" onclick=\"convertToInteractive('df-341af555-724f-48d4-a9d1-e316e3278919')\"\n",
              "              title=\"Convert this dataframe to an interactive table.\"\n",
              "              style=\"display:none;\">\n",
              "        \n",
              "  <svg xmlns=\"http://www.w3.org/2000/svg\" height=\"24px\"viewBox=\"0 0 24 24\"\n",
              "       width=\"24px\">\n",
              "    <path d=\"M0 0h24v24H0V0z\" fill=\"none\"/>\n",
              "    <path d=\"M18.56 5.44l.94 2.06.94-2.06 2.06-.94-2.06-.94-.94-2.06-.94 2.06-2.06.94zm-11 1L8.5 8.5l.94-2.06 2.06-.94-2.06-.94L8.5 2.5l-.94 2.06-2.06.94zm10 10l.94 2.06.94-2.06 2.06-.94-2.06-.94-.94-2.06-.94 2.06-2.06.94z\"/><path d=\"M17.41 7.96l-1.37-1.37c-.4-.4-.92-.59-1.43-.59-.52 0-1.04.2-1.43.59L10.3 9.45l-7.72 7.72c-.78.78-.78 2.05 0 2.83L4 21.41c.39.39.9.59 1.41.59.51 0 1.02-.2 1.41-.59l7.78-7.78 2.81-2.81c.8-.78.8-2.07 0-2.86zM5.41 20L4 18.59l7.72-7.72 1.47 1.35L5.41 20z\"/>\n",
              "  </svg>\n",
              "      </button>\n",
              "      \n",
              "  <style>\n",
              "    .colab-df-container {\n",
              "      display:flex;\n",
              "      flex-wrap:wrap;\n",
              "      gap: 12px;\n",
              "    }\n",
              "\n",
              "    .colab-df-convert {\n",
              "      background-color: #E8F0FE;\n",
              "      border: none;\n",
              "      border-radius: 50%;\n",
              "      cursor: pointer;\n",
              "      display: none;\n",
              "      fill: #1967D2;\n",
              "      height: 32px;\n",
              "      padding: 0 0 0 0;\n",
              "      width: 32px;\n",
              "    }\n",
              "\n",
              "    .colab-df-convert:hover {\n",
              "      background-color: #E2EBFA;\n",
              "      box-shadow: 0px 1px 2px rgba(60, 64, 67, 0.3), 0px 1px 3px 1px rgba(60, 64, 67, 0.15);\n",
              "      fill: #174EA6;\n",
              "    }\n",
              "\n",
              "    [theme=dark] .colab-df-convert {\n",
              "      background-color: #3B4455;\n",
              "      fill: #D2E3FC;\n",
              "    }\n",
              "\n",
              "    [theme=dark] .colab-df-convert:hover {\n",
              "      background-color: #434B5C;\n",
              "      box-shadow: 0px 1px 3px 1px rgba(0, 0, 0, 0.15);\n",
              "      filter: drop-shadow(0px 1px 2px rgba(0, 0, 0, 0.3));\n",
              "      fill: #FFFFFF;\n",
              "    }\n",
              "  </style>\n",
              "\n",
              "      <script>\n",
              "        const buttonEl =\n",
              "          document.querySelector('#df-341af555-724f-48d4-a9d1-e316e3278919 button.colab-df-convert');\n",
              "        buttonEl.style.display =\n",
              "          google.colab.kernel.accessAllowed ? 'block' : 'none';\n",
              "\n",
              "        async function convertToInteractive(key) {\n",
              "          const element = document.querySelector('#df-341af555-724f-48d4-a9d1-e316e3278919');\n",
              "          const dataTable =\n",
              "            await google.colab.kernel.invokeFunction('convertToInteractive',\n",
              "                                                     [key], {});\n",
              "          if (!dataTable) return;\n",
              "\n",
              "          const docLinkHtml = 'Like what you see? Visit the ' +\n",
              "            '<a target=\"_blank\" href=https://colab.research.google.com/notebooks/data_table.ipynb>data table notebook</a>'\n",
              "            + ' to learn more about interactive tables.';\n",
              "          element.innerHTML = '';\n",
              "          dataTable['output_type'] = 'display_data';\n",
              "          await google.colab.output.renderOutput(dataTable, element);\n",
              "          const docLink = document.createElement('div');\n",
              "          docLink.innerHTML = docLinkHtml;\n",
              "          element.appendChild(docLink);\n",
              "        }\n",
              "      </script>\n",
              "    </div>\n",
              "  </div>\n",
              "  "
            ],
            "text/plain": [
              "                      id           created_at  \\\n",
              "2531  259527804339769344  2012-10-20 05:33:45   \n",
              "1571  594756342641922048  2015-05-03 06:52:16   \n",
              "2168  338115331891556352  2013-05-25 02:12:31   \n",
              "2529  262365909757358080  2012-10-28 01:31:22   \n",
              "2451  295162137297428480  2013-01-26 13:31:52   \n",
              "\n",
              "                                                   text  \\\n",
              "2531  b TeslaMotors Tesla Supercharger network opens...   \n",
              "1571  bWhile I like the initials Id take the socalle...   \n",
              "2168  bTechnically I got rich from Zip2 amp PayPal w...   \n",
              "2529  bDoing LA to SF road trip in Model S with all ...   \n",
              "2451  bDesire to help Boeing is real amp am correspo...   \n",
              "\n",
              "                                         tokenized_text  \\\n",
              "2531  [teslamotors, tesla, supercharger, network, op...   \n",
              "1571  [bwhile, like, the, initials, id, take, the, s...   \n",
              "2168  [btechnically, got, rich, from, zip, amp, payp...   \n",
              "2529  [bdoing, la, to, sf, road, trip, in, model, wi...   \n",
              "2451  [bdesire, to, help, boeing, is, real, amp, am,...   \n",
              "\n",
              "                                        vectorized_text  cosine_sim  \\\n",
              "2531  [-0.07228046, 0.08442138, -0.1184677, -0.10358...    0.508432   \n",
              "1571  [-0.20209053, 0.15966749, -0.12788168, -0.1864...    0.508909   \n",
              "2168  [-0.0480614, 0.02388083, -0.081196524, -0.0241...    0.502199   \n",
              "2529  [0.006311951, 0.22930056, -0.059599612, -0.018...    0.496812   \n",
              "2451  [-0.022214685, 0.086267844, -0.019535271, -0.1...    0.500602   \n",
              "\n",
              "      euclidean_sim  \n",
              "2531       3.800812  \n",
              "1571       3.803121  \n",
              "2168       3.806347  \n",
              "2529       3.843287  \n",
              "2451       3.852934  "
            ]
          },
          "execution_count": 211,
          "metadata": {},
          "output_type": "execute_result"
        }
      ],
      "source": [
        "data['euclidean_sim'] = data['vectorized_text'].dropna().apply(lambda x: distance.euclidean(x, vectorized_sentence))\n",
        "data.sort_values(by=['euclidean_sim'], ascending=True).head(5)"
      ]
    },
    {
      "cell_type": "code",
      "execution_count": 212,
      "metadata": {
        "id": "_gdk8py1NNsv"
      },
      "outputs": [],
      "source": [
        "# data['euclidean_sim'] = data['vectorized_text'].dropna().apply(lambda x: euclidean_distances(x, vectorized_sentence))\n",
        "# data.sort_values(by=['euclidean_sim'], ascending=True).head(5)"
      ]
    }
  ],
  "metadata": {
    "colab": {
      "collapsed_sections": [],
      "name": "Tweets_glove_allie.ipynb",
      "provenance": []
    },
    "kernelspec": {
      "display_name": "Python 3",
      "name": "python3"
    },
    "language_info": {
      "name": "python"
    }
  },
  "nbformat": 4,
  "nbformat_minor": 0
}
