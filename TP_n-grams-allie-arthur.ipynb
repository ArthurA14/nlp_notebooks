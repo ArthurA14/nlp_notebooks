{
 "cells": [
  {
   "cell_type": "markdown",
   "id": "7d0c0d83",
   "metadata": {},
   "source": [
    "# Auto-complete model using n-grams\n"
   ]
  },
  {
   "cell_type": "markdown",
   "id": "a29cbb57",
   "metadata": {},
   "source": [
    "In this exercize, your mission, shall you choose to accept it, is to create a program that predicts the next word to appear in a given user input, based on a data base of text.\n",
    "\n",
    "Using n-grams, create 3-grams of the provided text, applying the necessary pre-processing to it, to predict the next word of a user input. \n",
    "\n",
    "The notebook below guides you in providing the framework of the necessary steps."
   ]
  },
  {
   "cell_type": "code",
   "execution_count": 24,
   "id": "758d65dc",
   "metadata": {},
   "outputs": [],
   "source": [
    "import re\n",
    "import unicodedata\n",
    "import string\n",
    "import random\n",
    "import nltk\n",
    "from nltk.stem import WordNetLemmatizer\n",
    "from nltk.corpus import wordnet\n",
    "from nltk import word_tokenize, pos_tag\n",
    "# nltk.download('punkt')\n",
    "# nltk.download('averaged_perceptron_tagger')\n",
    "# nltk.download('wordnet')\n",
    "# nltk.download('omw-1.4')"
   ]
  },
  {
   "cell_type": "code",
   "execution_count": 25,
   "id": "f7c4d973",
   "metadata": {},
   "outputs": [],
   "source": [
    "def get_wordnet_pos(treebank_tag):\n",
    "    if treebank_tag.startswith('J'):\n",
    "        return wordnet.ADJ\n",
    "    elif treebank_tag.startswith('V'):\n",
    "        return wordnet.VERB\n",
    "    elif treebank_tag.startswith('N'):\n",
    "        return wordnet.NOUN\n",
    "    elif treebank_tag.startswith('R'):\n",
    "        return wordnet.ADV\n",
    "    return ''"
   ]
  },
  {
   "cell_type": "code",
   "execution_count": 26,
   "id": "a6a6d9dd",
   "metadata": {},
   "outputs": [],
   "source": [
    "#Tokenize and perform lemmatization\n",
    "lemmatizer = WordNetLemmatizer()\n",
    "\n",
    "def clean(text):\n",
    "    output = [] #our list of cleaned words\n",
    "    # tokenization\n",
    "    text = word_tokenize(text)\n",
    "    # only alphabets, numerics and lower case\n",
    "    text = [word.lower() for word in text if word.isalpha()]\n",
    "    # apply lemmatization\n",
    "    for i, word in enumerate(text):\n",
    "        pos = get_wordnet_pos(pos_tag([word])[0][1])\n",
    "        if pos != '':\n",
    "            output.append(lemmatizer.lemmatize(word, pos))\n",
    "        else:\n",
    "            output.append(word)\n",
    "    return output"
   ]
  },
  {
   "cell_type": "code",
   "execution_count": 27,
   "id": "4bff74bc",
   "metadata": {},
   "outputs": [],
   "source": [
    "# remove unnecessary characters, perform regex parsing, and make lowercase\n",
    "def filter(text):\n",
    "    # remove punctuation (and some special characters)\n",
    "    text = re.sub(\"\\[.,\\/#!$%\\^&\\*;:{}=\\-_`~()]\",\"\",text) \n",
    "    # only alphabets and numerics\n",
    "    # text = re.sub(\"[^a-zA-Z0-9]+\",\"\",text)\n",
    "    # replace newline with space\n",
    "    text = re.sub(\"[\\\\t\\\\n\\\\r]+\",\" \",text)\n",
    "    return text"
   ]
  },
  {
   "cell_type": "code",
   "execution_count": 28,
   "id": "d561c371",
   "metadata": {},
   "outputs": [],
   "source": [
    "# Generate predictions from the created 3-grams\n",
    "def predict(model, user_input):\n",
    "    print(\"Filtering user input processing...\")\n",
    "    text = filter(user_input)\n",
    "    print(\"Cleaning user input processing...\")\n",
    "    words = clean(text)\n",
    "    l = len(words)\n",
    "    trigram = model[(words[l-2],words[l-1])].most_common(5)\n",
    "    print(trigram)\n",
    "    print(text + \" \" + str(trigram[0][0]))"
   ]
  },
  {
   "cell_type": "code",
   "execution_count": 29,
   "id": "e0b3634c",
   "metadata": {},
   "outputs": [],
   "source": [
    "from nltk.util import ngrams\n",
    "\n",
    "# Make a language model using a dictionary, trigrams\n",
    "\n",
    "def n_gram_model(list_of_tokenized_text):\n",
    "    # a nifty tool to help us create ngrams. in this scenairo, we are creating tri-grams\n",
    "    trigrams = list(ngrams(list_of_tokenized_text, 3, pad_left=True, pad_right=True, left_pad_symbol='<s>', right_pad_symbol='</s>'))\n",
    "    # we use nltk to get a trigram frequency\n",
    "    a,b,c = list(zip(*trigrams))\n",
    "    trigrams = list(zip(a,b))\n",
    "    return nltk.ConditionalFreqDist(list(zip(trigrams, c)))"
   ]
  },
  {
   "cell_type": "code",
   "execution_count": 30,
   "id": "9796e384",
   "metadata": {},
   "outputs": [
    {
     "name": "stdout",
     "output_type": "stream",
     "text": [
      "Filtering...\n",
      "Cleaning...\n"
     ]
    }
   ],
   "source": [
    "# file = open('n-gram-data.txt', 'r')\n",
    "    \n",
    "# text = \"\"\n",
    "# while True:\n",
    "#     line = file.readline()\n",
    "#     text += line\n",
    "#     if not line:\n",
    "#         break\n",
    "\n",
    "# # pre-process text\n",
    "# print(\"Filtering...\")\n",
    "# words = filter(text)\n",
    "# print(\"Cleaning...\")\n",
    "# words = clean(words)"
   ]
  },
  {
   "cell_type": "code",
   "execution_count": 31,
   "id": "06a41622",
   "metadata": {},
   "outputs": [
    {
     "data": {
      "text/plain": [
       "['A few words about Dostoevsky himself may help the English reader to\\nunderstand his work.',\n",
       " 'Dostoevsky was the son of a doctor.',\n",
       " 'His parents were very hard-\\nworking and deeply religious people, but so poor that they lived with\\ntheir five children in only two rooms.',\n",
       " 'The father and mother spent\\ntheir evenings in reading aloud to their children, generally from\\nbooks of a serious character.',\n",
       " 'Though always sickly and delicate Dostoevsky came out third in the\\nfinal examination of the Petersburg school of Engineering.',\n",
       " 'There he\\nhad already begun his first work, \"Poor Folk.\"',\n",
       " 'This story was published by the poet Nekrassov in his review and was\\nreceived with acclamations.',\n",
       " 'The shy, unknown youth found himself\\ninstantly something of a celebrity.',\n",
       " 'A brilliant and successful career\\nseemed to open before him, but those hopes were soon dashed.',\n",
       " 'In 1849\\nhe was arrested.']"
      ]
     },
     "execution_count": 31,
     "metadata": {},
     "output_type": "execute_result"
    }
   ],
   "source": [
    "# from nltk.tokenize import sent_tokenize\n",
    "\n",
    "# text_clean_sent_tokenized = sent_tokenize(text)\n",
    "# text_clean_sent_tokenized[:10]"
   ]
  },
  {
   "cell_type": "code",
   "execution_count": 32,
   "id": "88cba1a0",
   "metadata": {},
   "outputs": [
    {
     "name": "stdout",
     "output_type": "stream",
     "text": [
      "Filtering...\n",
      "Cleaning...\n",
      "Text cleaned. \n",
      "\n",
      "Making model...\n",
      "Enter a phrase: \n",
      "Filtering user input processing...\n",
      "Cleaning user input processing...\n",
      "[('sickly', 1)]\n",
      "Though always sickly\n"
     ]
    }
   ],
   "source": [
    "def main():\n",
    "    file = open('n-gram-data.txt', 'r')\n",
    "    \n",
    "    text = \"\"\n",
    "    while True:\n",
    "        line = file.readline()\n",
    "        text += line\n",
    "        if not line:\n",
    "            break\n",
    "\n",
    "    # pre-process text\n",
    "    print(\"Filtering...\")\n",
    "    words = filter(text)\n",
    "    print(\"Cleaning...\")\n",
    "    words = clean(words)\n",
    "    print(\"Text cleaned.\", '\\n')\n",
    "\n",
    "    # make language model\n",
    "    print(\"Making model...\")\n",
    "    model = n_gram_model(words)\n",
    "\n",
    "    print(\"Enter a phrase: \")\n",
    "    user_input = input()\n",
    "    predict(model, user_input)\n",
    "\n",
    "main()"
   ]
  }
 ],
 "metadata": {
  "kernelspec": {
   "display_name": "Python 3 (ipykernel)",
   "language": "python",
   "name": "python3"
  },
  "language_info": {
   "codemirror_mode": {
    "name": "ipython",
    "version": 3
   },
   "file_extension": ".py",
   "mimetype": "text/x-python",
   "name": "python",
   "nbconvert_exporter": "python",
   "pygments_lexer": "ipython3",
   "version": "3.9.5"
  }
 },
 "nbformat": 4,
 "nbformat_minor": 5
}
