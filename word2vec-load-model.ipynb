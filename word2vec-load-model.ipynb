{
 "cells": [
  {
   "cell_type": "markdown",
   "metadata": {},
   "source": [
    "## Loading model\n",
    "Here we will load a pretrained word2vec model from google\n",
    "\n",
    "google full pre-trained model available at https://drive.google.com/file/d/0B7XkCwpI5KDYNlNUTTlSS21pQmM/edit (1.5 GB)\n",
    "\n",
    "a smaller model (345 MB unpacked), which is the one we'll be using, is available at https://github.com/eyaler/word2vec-slim/blob/master/GoogleNews-vectors-negative300-SLIM.bin.gz"
   ]
  },
  {
   "cell_type": "code",
   "execution_count": 3,
   "metadata": {},
   "outputs": [],
   "source": [
    "# ! pip install gensim\n",
    "import gensim\n",
    "model = gensim.models.KeyedVectors.load_word2vec_format('GoogleNews-vectors-negative300-SLIM.bin.gz', binary=True)  "
   ]
  },
  {
   "cell_type": "markdown",
   "metadata": {},
   "source": [
    "## Vocabulary"
   ]
  },
  {
   "cell_type": "code",
   "execution_count": 4,
   "metadata": {},
   "outputs": [],
   "source": [
    "# get list of word vectors\n",
    "model_words = list(model.key_to_index)"
   ]
  },
  {
   "cell_type": "code",
   "execution_count": 5,
   "metadata": {},
   "outputs": [
    {
     "data": {
      "text/plain": [
       "299567"
      ]
     },
     "execution_count": 5,
     "metadata": {},
     "output_type": "execute_result"
    }
   ],
   "source": [
    "len(model_words)"
   ]
  },
  {
   "cell_type": "code",
   "execution_count": 6,
   "metadata": {},
   "outputs": [],
   "source": [
    "# get sorted list of word vectors\n",
    "words_indexes = list(model.index_to_key)"
   ]
  },
  {
   "cell_type": "code",
   "execution_count": 7,
   "metadata": {},
   "outputs": [
    {
     "data": {
      "text/plain": [
       "299567"
      ]
     },
     "execution_count": 7,
     "metadata": {},
     "output_type": "execute_result"
    }
   ],
   "source": [
    "len(words_indexes)"
   ]
  },
  {
   "cell_type": "code",
   "execution_count": 52,
   "metadata": {},
   "outputs": [],
   "source": [
    "# words_indexes"
   ]
  },
  {
   "cell_type": "code",
   "execution_count": 8,
   "metadata": {},
   "outputs": [
    {
     "data": {
      "text/plain": [
       "{'in': 0,\n",
       " 'for': 1,\n",
       " 'that': 2,\n",
       " 'is': 3,\n",
       " 'on': 4,\n",
       " 'The': 5,\n",
       " 'with': 6,\n",
       " 'said': 7,\n",
       " 'was': 8,\n",
       " 'the': 9,\n",
       " 'at': 10,\n",
       " 'not': 11,\n",
       " 'as': 12,\n",
       " 'it': 13,\n",
       " 'be': 14,\n",
       " 'from': 15,\n",
       " 'by': 16,\n",
       " 'are': 17,\n",
       " 'I': 18,\n",
       " 'have': 19,\n",
       " 'he': 20,\n",
       " 'will': 21,\n",
       " 'has': 22,\n",
       " 'his': 23,\n",
       " 'an': 24,\n",
       " 'this': 25,\n",
       " 'or': 26,\n",
       " 'their': 27,\n",
       " 'who': 28,\n",
       " 'they': 29,\n",
       " 'but': 30,\n",
       " 'had': 31,\n",
       " 'year': 32,\n",
       " 'were': 33,\n",
       " 'we': 34,\n",
       " 'more': 35,\n",
       " 'up': 36,\n",
       " 'been': 37,\n",
       " 'you': 38,\n",
       " 'its': 39,\n",
       " 'one': 40,\n",
       " 'about': 41,\n",
       " 'would': 42,\n",
       " 'which': 43,\n",
       " 'out': 44,\n",
       " 'can': 45,\n",
       " 'It': 46,\n",
       " 'all': 47,\n",
       " 'also': 48,\n",
       " 'two': 49,\n",
       " 'after': 50,\n",
       " 'first': 51,\n",
       " 'He': 52,\n",
       " 'do': 53,\n",
       " 'time': 54,\n",
       " 'than': 55,\n",
       " 'when': 56,\n",
       " 'We': 57,\n",
       " 'over': 58,\n",
       " 'last': 59,\n",
       " 'new': 60,\n",
       " 'other': 61,\n",
       " 'her': 62,\n",
       " 'people': 63,\n",
       " 'into': 64,\n",
       " 'In': 65,\n",
       " 'our': 66,\n",
       " 'there': 67,\n",
       " 'A': 68,\n",
       " 'she': 69,\n",
       " 'could': 70,\n",
       " 'just': 71,\n",
       " 'years': 72,\n",
       " 'some': 73,\n",
       " 'U.S.': 74,\n",
       " 'three': 75,\n",
       " 'million': 76,\n",
       " 'them': 77,\n",
       " 'what': 78,\n",
       " 'But': 79,\n",
       " 'so': 80,\n",
       " 'no': 81,\n",
       " 'like': 82,\n",
       " 'if': 83,\n",
       " 'only': 84,\n",
       " 'percent': 85,\n",
       " 'get': 86,\n",
       " 'did': 87,\n",
       " 'him': 88,\n",
       " 'game': 89,\n",
       " 'back': 90,\n",
       " 'because': 91,\n",
       " 'now': 92,\n",
       " 'before': 93,\n",
       " 'company': 94,\n",
       " 'any': 95,\n",
       " 'team': 96,\n",
       " 'against': 97,\n",
       " 'off': 98,\n",
       " 'This': 99,\n",
       " 'most': 100,\n",
       " 'made': 101,\n",
       " 'through': 102,\n",
       " 'make': 103,\n",
       " 'second': 104,\n",
       " 'state': 105,\n",
       " 'well': 106,\n",
       " 'day': 107,\n",
       " 'season': 108,\n",
       " 'says': 109,\n",
       " 'week': 110,\n",
       " 'where': 111,\n",
       " 'while': 112,\n",
       " 'down': 113,\n",
       " 'being': 114,\n",
       " 'government': 115,\n",
       " 'your': 116,\n",
       " 'home': 117,\n",
       " 'going': 118,\n",
       " 'my': 119,\n",
       " 'good': 120,\n",
       " 'They': 121,\n",
       " \"'re\": 122,\n",
       " 'should': 123,\n",
       " 'many': 124,\n",
       " 'way': 125,\n",
       " 'those': 126,\n",
       " 'four': 127,\n",
       " 'during': 128,\n",
       " 'such': 129,\n",
       " 'may': 130,\n",
       " 'very': 131,\n",
       " 'how': 132,\n",
       " 'since': 133,\n",
       " 'work': 134,\n",
       " 'take': 135,\n",
       " 'including': 136,\n",
       " 'high': 137,\n",
       " 'then': 138,\n",
       " 'next': 139,\n",
       " 'By': 140,\n",
       " 'much': 141,\n",
       " 'still': 142,\n",
       " 'go': 143,\n",
       " 'think': 144,\n",
       " 'old': 145,\n",
       " 'even': 146,\n",
       " 'world': 147,\n",
       " 'see': 148,\n",
       " 'say': 149,\n",
       " 'business': 150,\n",
       " 'five': 151,\n",
       " 'told': 152,\n",
       " 'under': 153,\n",
       " 'us': 154,\n",
       " 'these': 155,\n",
       " 'If': 156,\n",
       " 'right': 157,\n",
       " 'And': 158,\n",
       " 'me': 159,\n",
       " 'between': 160,\n",
       " 'play': 161,\n",
       " 'help': 162,\n",
       " 'market': 163,\n",
       " 'That': 164,\n",
       " 'know': 165,\n",
       " 'end': 166,\n",
       " 'AP': 167,\n",
       " 'long': 168,\n",
       " 'information': 169,\n",
       " 'points': 170,\n",
       " 'does': 171,\n",
       " 'both': 172,\n",
       " 'There': 173,\n",
       " 'part': 174,\n",
       " 'around': 175,\n",
       " 'police': 176,\n",
       " 'want': 177,\n",
       " \"'ve\": 178,\n",
       " 'based': 179,\n",
       " 'For': 180,\n",
       " 'got': 181,\n",
       " 'third': 182,\n",
       " 'school': 183,\n",
       " 'left': 184,\n",
       " 'another': 185,\n",
       " 'country': 186,\n",
       " 'need': 187,\n",
       " '2': 188,\n",
       " 'best': 189,\n",
       " 'win': 190,\n",
       " 'quarter': 191,\n",
       " 'use': 192,\n",
       " 'today': 193,\n",
       " 'same': 194,\n",
       " 'public': 195,\n",
       " 'run': 196,\n",
       " 'Friday': 197,\n",
       " 'set': 198,\n",
       " 'month': 199,\n",
       " 'top': 200,\n",
       " 'billion': 201,\n",
       " 'Tuesday': 202,\n",
       " 'come': 203,\n",
       " 'Monday': 204,\n",
       " 'She': 205,\n",
       " 'city': 206,\n",
       " 'place': 207,\n",
       " 'night': 208,\n",
       " 'six': 209,\n",
       " 'each': 210,\n",
       " 'Thursday': 211,\n",
       " 'Wednesday': 212,\n",
       " 'here': 213,\n",
       " 'You': 214,\n",
       " 'group': 215,\n",
       " 'really': 216,\n",
       " 'found': 217,\n",
       " 'As': 218,\n",
       " 'used': 219,\n",
       " 'lot': 220,\n",
       " \"'m\": 221,\n",
       " 'money': 222,\n",
       " 'put': 223,\n",
       " 'games': 224,\n",
       " 'support': 225,\n",
       " 'program': 226,\n",
       " 'half': 227,\n",
       " 'report': 228,\n",
       " 'family': 229,\n",
       " 'months': 230,\n",
       " 'number': 231,\n",
       " 'officials': 232,\n",
       " 'am': 233,\n",
       " 'former': 234,\n",
       " 'own': 235,\n",
       " 'man': 236,\n",
       " 'Saturday': 237,\n",
       " 'too': 238,\n",
       " 'better': 239,\n",
       " 'days': 240,\n",
       " 'came': 241,\n",
       " 'lead': 242,\n",
       " 'life': 243,\n",
       " 'American': 244,\n",
       " 'show': 245,\n",
       " 'past': 246,\n",
       " 'took': 247,\n",
       " 'added': 248,\n",
       " 'expected': 249,\n",
       " 'called': 250,\n",
       " 'great': 251,\n",
       " 'State': 252,\n",
       " 'services': 253,\n",
       " 'children': 254,\n",
       " 'hit': 255,\n",
       " 'area': 256,\n",
       " 'system': 257,\n",
       " 'every': 258,\n",
       " 'pm': 259,\n",
       " 'big': 260,\n",
       " 'service': 261,\n",
       " 'few': 262,\n",
       " 'per': 263,\n",
       " 'members': 264,\n",
       " 'Sunday': 265,\n",
       " 'early': 266,\n",
       " 'point': 267,\n",
       " 'start': 268,\n",
       " 'companies': 269,\n",
       " 'little': 270,\n",
       " 'case': 271,\n",
       " 'ago': 272,\n",
       " 'local': 273,\n",
       " 'according': 274,\n",
       " 'never': 275,\n",
       " 'without': 276,\n",
       " 'sales': 277,\n",
       " 'until': 278,\n",
       " 'went': 279,\n",
       " 'players': 280,\n",
       " 'won': 281,\n",
       " 'financial': 282,\n",
       " 'news': 283,\n",
       " 'When': 284,\n",
       " 'share': 285,\n",
       " 'several': 286,\n",
       " 'free': 287,\n",
       " 'away': 288,\n",
       " 'already': 289,\n",
       " 'On': 290,\n",
       " 'industry': 291,\n",
       " \"'ll\": 292,\n",
       " 'call': 293,\n",
       " 'With': 294,\n",
       " 'students': 295,\n",
       " 'line': 296,\n",
       " 'available': 297,\n",
       " 'County': 298,\n",
       " 'making': 299,\n",
       " 'held': 300,\n",
       " 'final': 301,\n",
       " 'power': 302,\n",
       " 'plan': 303,\n",
       " 'might': 304,\n",
       " 'least': 305,\n",
       " 'look': 306,\n",
       " 'forward': 307,\n",
       " 'give': 308,\n",
       " 'At': 309,\n",
       " 'again': 310,\n",
       " 'later': 311,\n",
       " 'full': 312,\n",
       " 'must': 313,\n",
       " 'things': 314,\n",
       " 'major': 315,\n",
       " 'community': 316,\n",
       " 'announced': 317,\n",
       " 'open': 318,\n",
       " 'record': 319,\n",
       " 'reported': 320,\n",
       " 'court': 321,\n",
       " 'working': 322,\n",
       " 'able': 323,\n",
       " 'something': 324,\n",
       " 'president': 325,\n",
       " 'meeting': 326,\n",
       " 'keep': 327,\n",
       " 'March': 328,\n",
       " 'future': 329,\n",
       " 'far': 330,\n",
       " 'deal': 331,\n",
       " 'City': 332,\n",
       " 'May': 333,\n",
       " 'development': 334,\n",
       " 'University': 335,\n",
       " 'find': 336,\n",
       " 'times': 337,\n",
       " 'After': 338,\n",
       " 'office': 339,\n",
       " 'led': 340,\n",
       " 'among': 341,\n",
       " 'June': 342,\n",
       " 'increase': 343,\n",
       " 'China': 344,\n",
       " 'John': 345,\n",
       " 'whether': 346,\n",
       " 'cost': 347,\n",
       " 'security': 348,\n",
       " 'job': 349,\n",
       " 'less': 350,\n",
       " 'head': 351,\n",
       " 'seven': 352,\n",
       " 'growth': 353,\n",
       " 'lost': 354,\n",
       " 'pay': 355,\n",
       " 'looking': 356,\n",
       " 'provide': 357,\n",
       " 'To': 358,\n",
       " 'plans': 359,\n",
       " 'products': 360,\n",
       " 'car': 361,\n",
       " 'recent': 362,\n",
       " 'hard': 363,\n",
       " 'always': 364,\n",
       " 'include': 365,\n",
       " 'women': 366,\n",
       " 'across': 367,\n",
       " 'tax': 368,\n",
       " 'water': 369,\n",
       " 'April': 370,\n",
       " 'continue': 371,\n",
       " 'important': 372,\n",
       " 'different': 373,\n",
       " 'close': 374,\n",
       " 'One': 375,\n",
       " 'late': 376,\n",
       " 'decision': 377,\n",
       " 'current': 378,\n",
       " 'law': 379,\n",
       " 'within': 380,\n",
       " 'along': 381,\n",
       " 'played': 382,\n",
       " 'move': 383,\n",
       " 'enough': 384,\n",
       " 'become': 385,\n",
       " 'side': 386,\n",
       " 'national': 387,\n",
       " 'Inc.': 388,\n",
       " 'results': 389,\n",
       " 'level': 390,\n",
       " 'loss': 391,\n",
       " 'economic': 392,\n",
       " 'coach': 393,\n",
       " 'near': 394,\n",
       " 'getting': 395,\n",
       " 'price': 396,\n",
       " 'Department': 397,\n",
       " 'event': 398,\n",
       " 'fourth': 399,\n",
       " 'change': 400,\n",
       " 'All': 401,\n",
       " 'small': 402,\n",
       " 'board': 403,\n",
       " 'National': 404,\n",
       " 'So': 405,\n",
       " 'goal': 406,\n",
       " 'taken': 407,\n",
       " 'field': 408,\n",
       " 'prices': 409,\n",
       " 'weeks': 410,\n",
       " 'men': 411,\n",
       " 'asked': 412,\n",
       " 'eight': 413,\n",
       " 'data': 414,\n",
       " 'shot': 415,\n",
       " 'New': 416,\n",
       " 'started': 417,\n",
       " 'July': 418,\n",
       " 'director': 419,\n",
       " 'President': 420,\n",
       " 'party': 421,\n",
       " 'federal': 422,\n",
       " 'done': 423,\n",
       " 'political': 424,\n",
       " 'minutes': 425,\n",
       " 'taking': 426,\n",
       " 'Company': 427,\n",
       " 'technology': 428,\n",
       " 'project': 429,\n",
       " 'center': 430,\n",
       " 'leading': 431,\n",
       " 'issue': 432,\n",
       " 'though': 433,\n",
       " 'having': 434,\n",
       " 'period': 435,\n",
       " 'likely': 436,\n",
       " 'scored': 437,\n",
       " 'strong': 438,\n",
       " 'series': 439,\n",
       " 'military': 440,\n",
       " 'seen': 441,\n",
       " 'trying': 442,\n",
       " 'What': 443,\n",
       " 'coming': 444,\n",
       " 'process': 445,\n",
       " 'building': 446,\n",
       " 'behind': 447,\n",
       " 'performance': 448,\n",
       " 'management': 449,\n",
       " 'Iraq': 450,\n",
       " 'saying': 451,\n",
       " 'earlier': 452,\n",
       " 'believe': 453,\n",
       " 'oil': 454,\n",
       " 'given': 455,\n",
       " 'Police': 456,\n",
       " 'customers': 457,\n",
       " 'due': 458,\n",
       " 'following': 459,\n",
       " 'term': 460,\n",
       " 'others': 461,\n",
       " 'statement': 462,\n",
       " 'international': 463,\n",
       " 'economy': 464,\n",
       " 'health': 465,\n",
       " 'thing': 466,\n",
       " 'Obama': 467,\n",
       " 'return': 468,\n",
       " 'killed': 469,\n",
       " 'Washington': 470,\n",
       " 'further': 471,\n",
       " 'However': 472,\n",
       " 'doing': 473,\n",
       " 'face': 474,\n",
       " 'low': 475,\n",
       " 'higher': 476,\n",
       " 'site': 477,\n",
       " 'once': 478,\n",
       " 'yet': 479,\n",
       " 'hours': 480,\n",
       " 'America': 481,\n",
       " 'control': 482,\n",
       " 'received': 483,\n",
       " 'rate': 484,\n",
       " 'career': 485,\n",
       " 'Bush': 486,\n",
       " 'teams': 487,\n",
       " 'known': 488,\n",
       " 'offer': 489,\n",
       " 'race': 490,\n",
       " 'ever': 491,\n",
       " 'experience': 492,\n",
       " 'playing': 493,\n",
       " 'name': 494,\n",
       " 'possible': 495,\n",
       " 'countries': 496,\n",
       " 'Mr.': 497,\n",
       " 'average': 498,\n",
       " 'together': 499,\n",
       " 'using': 500,\n",
       " 'cut': 501,\n",
       " 'While': 502,\n",
       " 'total': 503,\n",
       " 'round': 504,\n",
       " 'young': 505,\n",
       " 'nearly': 506,\n",
       " 'shares': 507,\n",
       " 'member': 508,\n",
       " 'campaign': 509,\n",
       " 'media': 510,\n",
       " 'needs': 511,\n",
       " 'why': 512,\n",
       " 'house': 513,\n",
       " 'issues': 514,\n",
       " 'costs': 515,\n",
       " 'fire': 516,\n",
       " 'victory': 517,\n",
       " 'player': 518,\n",
       " 'began': 519,\n",
       " 'sure': 520,\n",
       " 'story': 521,\n",
       " 'North': 522,\n",
       " 'His': 523,\n",
       " 'staff': 524,\n",
       " 'order': 525,\n",
       " 'war': 526,\n",
       " 'large': 527,\n",
       " 'interest': 528,\n",
       " 'stock': 529,\n",
       " 'food': 530,\n",
       " 'research': 531,\n",
       " 'key': 532,\n",
       " 'India': 533,\n",
       " 'South': 534,\n",
       " 'morning': 535,\n",
       " 'conference': 536,\n",
       " 'senior': 537,\n",
       " 'global': 538,\n",
       " 'Center': 539,\n",
       " 'death': 540,\n",
       " 'person': 541,\n",
       " 'thought': 542,\n",
       " 'gave': 543,\n",
       " 'feel': 544,\n",
       " 'energy': 545,\n",
       " 'history': 546,\n",
       " 'recently': 547,\n",
       " 'largest': 548,\n",
       " 'general': 549,\n",
       " 'official': 550,\n",
       " 'released': 551,\n",
       " 'wanted': 552,\n",
       " 'meet': 553,\n",
       " 'short': 554,\n",
       " 'outside': 555,\n",
       " 'running': 556,\n",
       " 'live': 557,\n",
       " 'ball': 558,\n",
       " 'online': 559,\n",
       " 'real': 560,\n",
       " 'position': 561,\n",
       " 'fact': 562,\n",
       " 'fell': 563,\n",
       " 'nine': 564,\n",
       " 'December': 565,\n",
       " 'front': 566,\n",
       " 'action': 567,\n",
       " 'defense': 568,\n",
       " 'problem': 569,\n",
       " 'problems': 570,\n",
       " 'Mr': 571,\n",
       " 'nation': 572,\n",
       " 'needed': 573,\n",
       " 'special': 574,\n",
       " 'January': 575,\n",
       " 'almost': 576,\n",
       " 'chance': 577,\n",
       " \"'d\": 578,\n",
       " 'result': 579,\n",
       " 'West': 580,\n",
       " 'September': 581,\n",
       " 'reports': 582,\n",
       " 'leader': 583,\n",
       " 'investment': 584,\n",
       " 'yesterday': 585,\n",
       " 'Some': 586,\n",
       " 'leaders': 587,\n",
       " 'ahead': 588,\n",
       " 'production': 589,\n",
       " 'comes': 590,\n",
       " 'No': 591,\n",
       " 'runs': 592,\n",
       " 'match': 593,\n",
       " 'role': 594,\n",
       " 'kind': 595,\n",
       " 'try': 596,\n",
       " 'ended': 597,\n",
       " 'risk': 598,\n",
       " 'areas': 599,\n",
       " 'election': 600,\n",
       " 'workers': 601,\n",
       " 'visit': 602,\n",
       " 'bring': 603,\n",
       " 'road': 604,\n",
       " 'music': 605,\n",
       " 'study': 606,\n",
       " 'makes': 607,\n",
       " 'often': 608,\n",
       " 'release': 609,\n",
       " 'woman': 610,\n",
       " 'vote': 611,\n",
       " 'care': 612,\n",
       " 'town': 613,\n",
       " 'clear': 614,\n",
       " 'comment': 615,\n",
       " 'budget': 616,\n",
       " 'potential': 617,\n",
       " 'single': 618,\n",
       " 'markets': 619,\n",
       " 'policy': 620,\n",
       " 'capital': 621,\n",
       " 'saw': 622,\n",
       " 'access': 623,\n",
       " 'weekend': 624,\n",
       " 'operations': 625,\n",
       " 'whose': 626,\n",
       " 'net': 627,\n",
       " 'House': 628,\n",
       " 'hand': 629,\n",
       " 'increased': 630,\n",
       " 'charges': 631,\n",
       " 'winning': 632,\n",
       " 'trade': 633,\n",
       " 'These': 634,\n",
       " 'income': 635,\n",
       " 'value': 636,\n",
       " 'involved': 637,\n",
       " 'Bank': 638,\n",
       " 'November': 639,\n",
       " 'bill': 640,\n",
       " 'compared': 641,\n",
       " 'anything': 642,\n",
       " 'manager': 643,\n",
       " 'Texas': 644,\n",
       " 'property': 645,\n",
       " 'stop': 646,\n",
       " 'annual': 647,\n",
       " 'private': 648,\n",
       " 'contract': 649,\n",
       " 'died': 650,\n",
       " 'Now': 651,\n",
       " 'hope': 652,\n",
       " 'product': 653,\n",
       " 'fans': 654,\n",
       " 'lower': 655,\n",
       " 'demand': 656,\n",
       " 'News': 657,\n",
       " 'David': 658,\n",
       " 'club': 659,\n",
       " 'comments': 660,\n",
       " 'film': 661,\n",
       " 'yards': 662,\n",
       " 'quality': 663,\n",
       " 'currently': 664,\n",
       " 'events': 665,\n",
       " 'addition': 666,\n",
       " 'couple': 667,\n",
       " 'schools': 668,\n",
       " 'attack': 669,\n",
       " 'region': 670,\n",
       " 'latest': 671,\n",
       " 'opportunity': 672,\n",
       " 'worked': 673,\n",
       " 'course': 674,\n",
       " 'bad': 675,\n",
       " 'fall': 676,\n",
       " 'Group': 677,\n",
       " 'October': 678,\n",
       " 'jobs': 679,\n",
       " 'list': 680,\n",
       " 'let': 681,\n",
       " 'however': 682,\n",
       " 'chief': 683,\n",
       " 'summer': 684,\n",
       " 'programs': 685,\n",
       " 'According': 686,\n",
       " 'revenue': 687,\n",
       " 'Our': 688,\n",
       " 'rose': 689,\n",
       " 'previous': 690,\n",
       " 'TV': 691,\n",
       " 'football': 692,\n",
       " 'biggest': 693,\n",
       " 'employees': 694,\n",
       " 'changes': 695,\n",
       " 'residents': 696,\n",
       " 'means': 697,\n",
       " 'agreement': 698,\n",
       " 'includes': 699,\n",
       " 'post': 700,\n",
       " 'Canada': 701,\n",
       " 'probably': 702,\n",
       " 'related': 703,\n",
       " 'training': 704,\n",
       " 'allowed': 705,\n",
       " 'class': 706,\n",
       " 'bit': 707,\n",
       " 'video': 708,\n",
       " 'Michael': 709,\n",
       " 'An': 710,\n",
       " 'sent': 711,\n",
       " 'education': 712,\n",
       " 'states': 713,\n",
       " 'straight': 714,\n",
       " 'love': 715,\n",
       " 'beat': 716,\n",
       " 'hold': 717,\n",
       " 'turn': 718,\n",
       " 'finished': 719,\n",
       " 'network': 720,\n",
       " 'Smith': 721,\n",
       " 'buy': 722,\n",
       " 'foreign': 723,\n",
       " 'especially': 724,\n",
       " 'groups': 725,\n",
       " 'wants': 726,\n",
       " 'title': 727,\n",
       " 'included': 728,\n",
       " 'turned': 729,\n",
       " 'bank': 730,\n",
       " 'Florida': 731,\n",
       " 'efforts': 732,\n",
       " 'personal': 733,\n",
       " 'businesses': 734,\n",
       " 'August': 735,\n",
       " 'California': 736,\n",
       " 'situation': 737,\n",
       " 'district': 738,\n",
       " 'allow': 739,\n",
       " 'helped': 740,\n",
       " 'body': 741,\n",
       " 'nothing': 742,\n",
       " 'soon': 743,\n",
       " 'safety': 744,\n",
       " 'officer': 745,\n",
       " 'cents': 746,\n",
       " 'Europe': 747,\n",
       " 'St.': 748,\n",
       " 'additional': 749,\n",
       " 'spokesman': 750,\n",
       " 'February': 751,\n",
       " 'wife': 752,\n",
       " 'showed': 753,\n",
       " 'leave': 754,\n",
       " 'investors': 755,\n",
       " 'parents': 756,\n",
       " 'medical': 757,\n",
       " 'spending': 758,\n",
       " 'non': 759,\n",
       " 'London': 760,\n",
       " 'Council': 761,\n",
       " 'matter': 762,\n",
       " 'spent': 763,\n",
       " 'child': 764,\n",
       " 'World': 765,\n",
       " 'effort': 766,\n",
       " 'opening': 767,\n",
       " 'either': 768,\n",
       " 'range': 769,\n",
       " 'question': 770,\n",
       " 'European': 771,\n",
       " 'goals': 772,\n",
       " 'administration': 773,\n",
       " 'friends': 774,\n",
       " 'himself': 775,\n",
       " 'shows': 776,\n",
       " 'difficult': 777,\n",
       " 'kids': 778,\n",
       " 'paid': 779,\n",
       " 'create': 780,\n",
       " 'cash': 781,\n",
       " 'age': 782,\n",
       " 'league': 783,\n",
       " 'form': 784,\n",
       " 'impact': 785,\n",
       " 'drive': 786,\n",
       " 'someone': 787,\n",
       " 'became': 788,\n",
       " 'stay': 789,\n",
       " 'fight': 790,\n",
       " 'significant': 791,\n",
       " 'firm': 792,\n",
       " 'Senate': 793,\n",
       " 'hospital': 794,\n",
       " 'charged': 795,\n",
       " 'operating': 796,\n",
       " 'main': 797,\n",
       " 'book': 798,\n",
       " 'success': 799,\n",
       " 'son': 800,\n",
       " 'trading': 801,\n",
       " 'focus': 802,\n",
       " 'room': 803,\n",
       " 'continued': 804,\n",
       " 'Congress': 805,\n",
       " 'everything': 806,\n",
       " 'Park': 807,\n",
       " 'agency': 808,\n",
       " 'brought': 809,\n",
       " 'talk': 810,\n",
       " 'break': 811,\n",
       " 'air': 812,\n",
       " 'software': 813,\n",
       " 'decided': 814,\n",
       " 'Do': 815,\n",
       " 'ready': 816,\n",
       " 'arrested': 817,\n",
       " 'track': 818,\n",
       " 'provides': 819,\n",
       " 'mother': 820,\n",
       " 'base': 821,\n",
       " 'trial': 822,\n",
       " 'phone': 823,\n",
       " 'My': 824,\n",
       " 'build': 825,\n",
       " 'conditions': 826,\n",
       " 'rest': 827,\n",
       " 'Johnson': 828,\n",
       " 'terms': 829,\n",
       " 'expect': 830,\n",
       " 'England': 831,\n",
       " 'Israel': 832,\n",
       " 'despite': 833,\n",
       " 'closed': 834,\n",
       " 'starting': 835,\n",
       " 'provided': 836,\n",
       " 'pressure': 837,\n",
       " 'lives': 838,\n",
       " 'step': 839,\n",
       " 'remain': 840,\n",
       " 'similar': 841,\n",
       " 'charge': 842,\n",
       " 'date': 843,\n",
       " 'whole': 844,\n",
       " 'land': 845,\n",
       " 'growing': 846,\n",
       " 'James': 847,\n",
       " 'Internet': 848,\n",
       " 'projects': 849,\n",
       " 'British': 850,\n",
       " 'cases': 851,\n",
       " 'ground': 852,\n",
       " 'legal': 853,\n",
       " 'International': 854,\n",
       " 'agreed': 855,\n",
       " 'tell': 856,\n",
       " 'test': 857,\n",
       " 'everyone': 858,\n",
       " 'pretty': 859,\n",
       " 'authorities': 860,\n",
       " 'Two': 861,\n",
       " 'above': 862,\n",
       " 'moved': 863,\n",
       " 'profit': 864,\n",
       " 'throughout': 865,\n",
       " 'inside': 866,\n",
       " 'ability': 867,\n",
       " 'overall': 868,\n",
       " 'pass': 869,\n",
       " 'officers': 870,\n",
       " 'rather': 871,\n",
       " 'Australia': 872,\n",
       " 'actually': 873,\n",
       " 'county': 874,\n",
       " 'amount': 875,\n",
       " 'scheduled': 876,\n",
       " 'themselves': 877,\n",
       " 'organization': 878,\n",
       " 'giving': 879,\n",
       " 'credit': 880,\n",
       " 'father': 881,\n",
       " 'drug': 882,\n",
       " 'investigation': 883,\n",
       " 'families': 884,\n",
       " 'Republican': 885,\n",
       " 'funds': 886,\n",
       " 'patients': 887,\n",
       " 'takes': 888,\n",
       " 'systems': 889,\n",
       " 'Japan': 890,\n",
       " 'complete': 891,\n",
       " 'sold': 892,\n",
       " 'practice': 893,\n",
       " 'calls': 894,\n",
       " 'UK': 895,\n",
       " 'force': 896,\n",
       " 'student': 897,\n",
       " 'idea': 898,\n",
       " 'reached': 899,\n",
       " 'reason': 900,\n",
       " 'levels': 901,\n",
       " 'space': 902,\n",
       " 'competition': 903,\n",
       " 'forces': 904,\n",
       " 'sector': 905,\n",
       " 'Last': 906,\n",
       " 'tried': 907,\n",
       " 'common': 908,\n",
       " 'homes': 909,\n",
       " 'stage': 910,\n",
       " 'department': 911,\n",
       " 'named': 912,\n",
       " 'earnings': 913,\n",
       " 'offers': 914,\n",
       " 'star': 915,\n",
       " 'certain': 916,\n",
       " 'double': 917,\n",
       " 'longer': 918,\n",
       " 'followed': 919,\n",
       " 'cause': 920,\n",
       " 'Association': 921,\n",
       " 'signed': 922,\n",
       " 'committee': 923,\n",
       " 'hour': 924,\n",
       " 'college': 925,\n",
       " 'Pakistan': 926,\n",
       " 'users': 927,\n",
       " 'Iran': 928,\n",
       " 'sign': 929,\n",
       " 'living': 930,\n",
       " 'failed': 931,\n",
       " 'reach': 932,\n",
       " 'quickly': 933,\n",
       " 'receive': 934,\n",
       " 'debt': 935,\n",
       " 'sale': 936,\n",
       " 'Board': 937,\n",
       " 'Americans': 938,\n",
       " 'Road': 939,\n",
       " 'Brown': 940,\n",
       " 'insurance': 941,\n",
       " 'anyone': 942,\n",
       " 'tournament': 943,\n",
       " 'More': 944,\n",
       " 'gas': 945,\n",
       " 'talks': 946,\n",
       " 'serious': 947,\n",
       " 'required': 948,\n",
       " 'sell': 949,\n",
       " 'construction': 950,\n",
       " 'evidence': 951,\n",
       " 'remains': 952,\n",
       " 'black': 953,\n",
       " 'below': 954,\n",
       " 'improve': 955,\n",
       " 'crisis': 956,\n",
       " 'address': 957,\n",
       " 'questions': 958,\n",
       " 'easy': 959,\n",
       " 'begin': 960,\n",
       " 'view': 961,\n",
       " 'School': 962,\n",
       " 'heard': 963,\n",
       " 'executive': 964,\n",
       " 'raised': 965,\n",
       " 'Paul': 966,\n",
       " 'store': 967,\n",
       " 'gets': 968,\n",
       " 'filed': 969,\n",
       " 'huge': 970,\n",
       " 'moving': 971,\n",
       " 'seems': 972,\n",
       " 'met': 973,\n",
       " 'thousands': 974,\n",
       " 'CEO': 975,\n",
       " 'solutions': 976,\n",
       " 'score': 977,\n",
       " 'content': 978,\n",
       " 'treatment': 979,\n",
       " 'offered': 980,\n",
       " 'built': 981,\n",
       " 'hits': 982,\n",
       " 'present': 983,\n",
       " 'Chicago': 984,\n",
       " 'attacks': 985,\n",
       " 'although': 986,\n",
       " 'social': 987,\n",
       " 'afternoon': 988,\n",
       " 'vehicle': 989,\n",
       " 'read': 990,\n",
       " 'example': 991,\n",
       " 'rise': 992,\n",
       " 'minute': 993,\n",
       " 'banks': 994,\n",
       " 'council': 995,\n",
       " 'troops': 996,\n",
       " 'rates': 997,\n",
       " 'tough': 998,\n",
       " 'Chinese': 999,\n",
       " ...}"
      ]
     },
     "execution_count": 8,
     "metadata": {},
     "output_type": "execute_result"
    }
   ],
   "source": [
    "# check the index for a word\n",
    "model.key_to_index\n",
    "\n"
   ]
  },
  {
   "cell_type": "markdown",
   "metadata": {},
   "source": [
    "## Vectors"
   ]
  },
  {
   "cell_type": "code",
   "execution_count": 48,
   "metadata": {},
   "outputs": [
    {
     "name": "stdout",
     "output_type": "stream",
     "text": [
      "\u001b[1;31mType:\u001b[0m            KeyedVectors\n",
      "\u001b[1;31mString form:\u001b[0m     <gensim.models.keyedvectors.KeyedVectors object at 0x000001A16421A8B0>\n",
      "\u001b[1;31mLength:\u001b[0m          299567\n",
      "\u001b[1;31mFile:\u001b[0m            c:\\users\\arthu\\appdata\\local\\programs\\python\\python39\\lib\\site-packages\\gensim\\models\\keyedvectors.py\n",
      "\u001b[1;31mDocstring:\u001b[0m       <no docstring>\n",
      "\u001b[1;31mClass docstring:\u001b[0m\n",
      "Serialize/deserialize objects from disk, by equipping them with the `save()` / `load()` methods.\n",
      "\n",
      "Warnings\n",
      "--------\n",
      "This uses pickle internally (among other techniques), so objects must not contain unpicklable attributes\n",
      "such as lambda functions etc.\n",
      "\u001b[1;31mInit docstring:\u001b[0m \n",
      "Mapping between keys (such as words) and vectors for :class:`~gensim.models.Word2Vec`\n",
      "and related models.\n",
      "\n",
      "Used to perform operations on the vectors such as vector lookup, distance, similarity etc.\n",
      "\n",
      "To support the needs of specific models and other downstream uses, you can also set\n",
      "additional attributes via the :meth:`~gensim.models.keyedvectors.KeyedVectors.set_vecattr`\n",
      "and :meth:`~gensim.models.keyedvectors.KeyedVectors.get_vecattr` methods.\n",
      "Note that all such attributes under the same `attr` name must have compatible `numpy`\n",
      "types, as the type and storage array for such attributes is established by the 1st time such\n",
      "`attr` is set.\n",
      "\n",
      "Parameters\n",
      "----------\n",
      "vector_size : int\n",
      "    Intended number of dimensions for all contained vectors.\n",
      "count : int, optional\n",
      "    If provided, vectors wil be pre-allocated for at least this many vectors. (Otherwise\n",
      "    they can be added later.)\n",
      "dtype : type, optional\n",
      "    Vector dimensions will default to `np.float32` (AKA `REAL` in some Gensim code) unless\n",
      "    another type is provided here.\n",
      "mapfile_path : string, optional\n",
      "    Currently unused.\n"
     ]
    }
   ],
   "source": [
    "model?"
   ]
  },
  {
   "cell_type": "code",
   "execution_count": 59,
   "metadata": {},
   "outputs": [
    {
     "data": {
      "text/plain": [
       "array([ 0.03171886, -0.10109327,  0.10855653,  0.11534131,  0.07632881,\n",
       "        0.0052158 ,  0.05122511, -0.02154169,  0.10923501,  0.06920478,\n",
       "        0.03612897, -0.1031287 ,  0.04477957,  0.08209588, -0.01840372,\n",
       "        0.06275924,  0.00669997, -0.08582751, -0.01984549,  0.00502498,\n",
       "       -0.04477957,  0.0563137 , -0.06072381, -0.02832647,  0.01306071,\n",
       "        0.05733142, -0.05529598,  0.05495674,  0.00767529,  0.0580099 ,\n",
       "        0.00128275,  0.05292131,  0.03358468,  0.0069544 ,  0.00631833,\n",
       "        0.00538542,  0.01704677, -0.02111764,  0.03188848, -0.01848853,\n",
       "        0.07124022, -0.00966832,  0.0121278 ,  0.04410109,  0.04172641,\n",
       "        0.02747837,  0.06852631,  0.00784491, -0.06038457, -0.01781006,\n",
       "       -0.03494163,  0.03494163,  0.01009236,  0.00155838, -0.03680745,\n",
       "       -0.00602149,  0.02120245,  0.00886262,  0.03952136,  0.05461751,\n",
       "        0.02120245,  0.06716935,  0.00268211, -0.14315893, -0.05258207,\n",
       "       -0.00597909, -0.04477957,  0.00589428, -0.04087832,  0.08955914,\n",
       "        0.00975313,  0.06072381,  0.04477957, -0.00733605, -0.0337543 ,\n",
       "       -0.02188092, -0.01611386,  0.09363001,  0.04783272,  0.05970609,\n",
       "        0.06581239, -0.11330587,  0.10177175, -0.06208076, -0.0814174 ,\n",
       "       -0.06174153, -0.01585943, -0.01789487, -0.0320581 , -0.04918968,\n",
       "        0.05258207,  0.09363001, -0.04003022, -0.04003022, -0.12348305,\n",
       "       -0.04121756,  0.0814174 ,  0.02917457, -0.09430849,  0.03324544,\n",
       "       -0.04444033, -0.01882777,  0.01467209, -0.00623352, -0.00848098,\n",
       "       -0.00809934,  0.07700729,  0.00039225,  0.00021865, -0.0641162 ,\n",
       "       -0.06920478, -0.07836425, -0.02060878,  0.02238978,  0.11330587,\n",
       "        0.04172641,  0.04545804, -0.03324544,  0.12891088,  0.01899739,\n",
       "       -0.15808545, -0.0121278 , -0.08447055,  0.03222772, -0.04545804,\n",
       "       -0.08888066,  0.04376185, -0.03324544,  0.03239734,  0.08820218,\n",
       "       -0.0216265 , -0.11737674, -0.01314552, -0.00699681,  0.07056174,\n",
       "       -0.09905783, -0.03137962, -0.06275924, -0.01594424,  0.05936685,\n",
       "        0.08073892, -0.12144762,  0.06988326,  0.01696196,  0.17640436,\n",
       "        0.08073892, -0.02629104, -0.01628348, -0.05936685, -0.02781761,\n",
       "       -0.04477957, -0.00962591, -0.08955914,  0.02883533, -0.05868837,\n",
       "        0.02832647, -0.06004533, -0.10855653, -0.00301075, -0.01187337,\n",
       "       -0.12687545, -0.01263666,  0.04410109, -0.00375283, -0.01611386,\n",
       "       -0.00460093,  0.05495674, -0.04817196, -0.09227305, -0.04172641,\n",
       "       -0.12755392, -0.01789487, -0.00585188, -0.19268784, -0.02171131,\n",
       "       -0.06750859,  0.01068603, -0.05699218, -0.01755563, -0.00058042,\n",
       "        0.02917457, -0.06004533, -0.01170375,  0.05767066, -0.046815  ,\n",
       "        0.04986816, -0.00339239,  0.01535057,  0.05054663,  0.00225806,\n",
       "        0.01789487, -0.01051641,  0.03426316, -0.05190359, -0.05529598,\n",
       "       -0.00729364, -0.02374674,  0.04206565, -0.11737674, -0.14315893,\n",
       "        0.03273658,  0.07632881,  0.02374674,  0.05427827, -0.07938197,\n",
       "       -0.03409354, -0.07124022, -0.02832647,  0.0415568 , -0.02951381,\n",
       "        0.06479468,  0.08888066, -0.04952892,  0.0129759 , -0.02272902,\n",
       "        0.05936685, -0.00354081, -0.03188848, -0.09973631,  0.04715424,\n",
       "        0.02026954,  0.03511125,  0.00273512, -0.04291375,  0.09023762,\n",
       "       -0.01280628,  0.09430849,  0.06106305,  0.04257451,  0.01272147,\n",
       "       -0.02934419,  0.00818414,  0.04308337,  0.0641162 ,  0.07056174,\n",
       "        0.00328638,  0.01441766, -0.06988326, -0.02764799,  0.01441766,\n",
       "        0.03087076, -0.01416323, -0.03121   , -0.14315893,  0.08548827,\n",
       "        0.00094881,  0.01085565, -0.03239734,  0.04918968, -0.0320581 ,\n",
       "       -0.046815  , -0.05326055,  0.02188092,  0.0034772 ,  0.00142056,\n",
       "        0.05054663,  0.02357712,  0.0329062 , -0.01814929, -0.10448566,\n",
       "       -0.02442522, -0.0129759 , -0.06377696, -0.02493408,  0.05359979,\n",
       "        0.06615163,  0.04579728,  0.07429338, -0.13094631,  0.03477201,\n",
       "        0.04613652, -0.00413448, -0.02306826,  0.00614871,  0.09159457,\n",
       "       -0.05970609, -0.13705263, -0.08820218, -0.01229742, -0.08684523,\n",
       "       -0.0303619 ,  0.01467209,  0.02188092,  0.06615163, -0.01246704,\n",
       "       -0.0580099 , -0.09498696, -0.05224283, -0.00992275,  0.05122511,\n",
       "       -0.02009992, -0.00903224, -0.04189603, -0.02272902, -0.0719187 ,\n",
       "        0.03104038, -0.06615163, -0.01102527,  0.00466454, -0.00130925],\n",
       "      dtype=float32)"
      ]
     },
     "execution_count": 59,
     "metadata": {},
     "output_type": "execute_result"
    }
   ],
   "source": [
    "model.get_vector('one')"
   ]
  },
  {
   "cell_type": "code",
   "execution_count": 60,
   "metadata": {},
   "outputs": [
    {
     "data": {
      "text/plain": [
       "300"
      ]
     },
     "execution_count": 60,
     "metadata": {},
     "output_type": "execute_result"
    }
   ],
   "source": [
    "len(model.get_vector('heil'))"
   ]
  },
  {
   "cell_type": "markdown",
   "metadata": {},
   "source": [
    "### Distance from mean\n",
    "<a id=\"distance-from-mean\"></a>"
   ]
  },
  {
   "cell_type": "code",
   "execution_count": 69,
   "metadata": {},
   "outputs": [
    {
     "name": "stdout",
     "output_type": "stream",
     "text": [
      "\u001b[1;31mSignature:\u001b[0m \u001b[0mmodel\u001b[0m\u001b[1;33m.\u001b[0m\u001b[0mdoesnt_match\u001b[0m\u001b[1;33m(\u001b[0m\u001b[0mwords\u001b[0m\u001b[1;33m)\u001b[0m\u001b[1;33m\u001b[0m\u001b[1;33m\u001b[0m\u001b[0m\n",
      "\u001b[1;31mDocstring:\u001b[0m\n",
      "Which key from the given list doesn't go with the others?\n",
      "\n",
      "Parameters\n",
      "----------\n",
      "words : list of str\n",
      "    List of keys.\n",
      "\n",
      "Returns\n",
      "-------\n",
      "str\n",
      "    The key further away from the mean of all keys.\n",
      "\u001b[1;31mFile:\u001b[0m      c:\\users\\arthu\\appdata\\local\\programs\\python\\python39\\lib\\site-packages\\gensim\\models\\keyedvectors.py\n",
      "\u001b[1;31mType:\u001b[0m      method\n"
     ]
    }
   ],
   "source": [
    "model.doesnt_match?"
   ]
  },
  {
   "cell_type": "code",
   "execution_count": 63,
   "metadata": {},
   "outputs": [
    {
     "data": {
      "text/plain": [
       "'cereal'"
      ]
     },
     "execution_count": 63,
     "metadata": {},
     "output_type": "execute_result"
    }
   ],
   "source": [
    "# find word in list that is farthest from the mean\n",
    "model.doesnt_match(\"breakfast cereal dinner lunch\".split())"
   ]
  },
  {
   "cell_type": "code",
   "execution_count": 14,
   "metadata": {},
   "outputs": [
    {
     "data": {
      "text/plain": [
       "'house'"
      ]
     },
     "execution_count": 14,
     "metadata": {},
     "output_type": "execute_result"
    }
   ],
   "source": [
    "model.doesnt_match(\"car truck bike house\".split())"
   ]
  },
  {
   "cell_type": "code",
   "execution_count": 15,
   "metadata": {},
   "outputs": [
    {
     "data": {
      "text/plain": [
       "'teach'"
      ]
     },
     "execution_count": 15,
     "metadata": {},
     "output_type": "execute_result"
    }
   ],
   "source": [
    "model.doesnt_match(\"teach car boat bus\".split())"
   ]
  },
  {
   "cell_type": "code",
   "execution_count": 16,
   "metadata": {},
   "outputs": [
    {
     "data": {
      "text/plain": [
       "'sport'"
      ]
     },
     "execution_count": 16,
     "metadata": {},
     "output_type": "execute_result"
    }
   ],
   "source": [
    "model.doesnt_match(\"cook janitor pilot sport teacher\".split())"
   ]
  },
  {
   "cell_type": "code",
   "execution_count": 17,
   "metadata": {},
   "outputs": [
    {
     "data": {
      "text/plain": [
       "'builder'"
      ]
     },
     "execution_count": 17,
     "metadata": {},
     "output_type": "execute_result"
    }
   ],
   "source": [
    "model.doesnt_match(\"teacher school student class builder\".split())"
   ]
  },
  {
   "cell_type": "code",
   "execution_count": 18,
   "metadata": {},
   "outputs": [
    {
     "data": {
      "text/plain": [
       "'love'"
      ]
     },
     "execution_count": 18,
     "metadata": {},
     "output_type": "execute_result"
    }
   ],
   "source": [
    "model.doesnt_match(\"kill dead knife love\".split())"
   ]
  },
  {
   "cell_type": "code",
   "execution_count": 19,
   "metadata": {},
   "outputs": [
    {
     "data": {
      "text/plain": [
       "'tree'"
      ]
     },
     "execution_count": 19,
     "metadata": {},
     "output_type": "execute_result"
    }
   ],
   "source": [
    "model.doesnt_match(\"insect animal cat tree\".split())"
   ]
  },
  {
   "cell_type": "code",
   "execution_count": 20,
   "metadata": {},
   "outputs": [
    {
     "data": {
      "text/plain": [
       "'intelligent'"
      ]
     },
     "execution_count": 20,
     "metadata": {},
     "output_type": "execute_result"
    }
   ],
   "source": [
    "model.doesnt_match(\"politician philosopher intelligent scientist\".split())\n"
   ]
  },
  {
   "cell_type": "markdown",
   "metadata": {},
   "source": [
    "## Similarity\n",
    "<a id=\"similarity\"></a>"
   ]
  },
  {
   "cell_type": "markdown",
   "metadata": {},
   "source": [
    "### Cosine similarity"
   ]
  },
  {
   "cell_type": "code",
   "execution_count": 21,
   "metadata": {},
   "outputs": [
    {
     "name": "stdout",
     "output_type": "stream",
     "text": [
      "\u001b[1;31mSignature:\u001b[0m \u001b[0mmodel\u001b[0m\u001b[1;33m.\u001b[0m\u001b[0msimilarity\u001b[0m\u001b[1;33m(\u001b[0m\u001b[0mw1\u001b[0m\u001b[1;33m,\u001b[0m \u001b[0mw2\u001b[0m\u001b[1;33m)\u001b[0m\u001b[1;33m\u001b[0m\u001b[1;33m\u001b[0m\u001b[0m\n",
      "\u001b[1;31mDocstring:\u001b[0m\n",
      "Compute cosine similarity between two keys.\n",
      "\n",
      "Parameters\n",
      "----------\n",
      "w1 : str\n",
      "    Input key.\n",
      "w2 : str\n",
      "    Input key.\n",
      "\n",
      "Returns\n",
      "-------\n",
      "float\n",
      "    Cosine similarity between `w1` and `w2`.\n",
      "\u001b[1;31mFile:\u001b[0m      c:\\users\\arthu\\appdata\\local\\programs\\python\\python39\\lib\\site-packages\\gensim\\models\\keyedvectors.py\n",
      "\u001b[1;31mType:\u001b[0m      method\n"
     ]
    }
   ],
   "source": [
    "model.similarity?"
   ]
  },
  {
   "cell_type": "code",
   "execution_count": 22,
   "metadata": {},
   "outputs": [
    {
     "data": {
      "text/plain": [
       "0.37493223"
      ]
     },
     "execution_count": 22,
     "metadata": {},
     "output_type": "execute_result"
    }
   ],
   "source": [
    "model.similarity('angry', 'happy')"
   ]
  },
  {
   "cell_type": "code",
   "execution_count": 23,
   "metadata": {},
   "outputs": [
    {
     "data": {
      "text/plain": [
       "0.76640123"
      ]
     },
     "execution_count": 23,
     "metadata": {},
     "output_type": "execute_result"
    }
   ],
   "source": [
    "model.similarity('man', 'woman')"
   ]
  },
  {
   "cell_type": "code",
   "execution_count": 24,
   "metadata": {},
   "outputs": [
    {
     "data": {
      "text/plain": [
       "0.2406861"
      ]
     },
     "execution_count": 24,
     "metadata": {},
     "output_type": "execute_result"
    }
   ],
   "source": [
    "model.similarity('woman', 'tree')"
   ]
  },
  {
   "cell_type": "code",
   "execution_count": 25,
   "metadata": {},
   "outputs": [
    {
     "data": {
      "text/plain": [
       "0.59844595"
      ]
     },
     "execution_count": 25,
     "metadata": {},
     "output_type": "execute_result"
    }
   ],
   "source": [
    "model.similarity('tree', 'shrub')"
   ]
  },
  {
   "cell_type": "code",
   "execution_count": 26,
   "metadata": {},
   "outputs": [
    {
     "data": {
      "text/plain": [
       "0.44554722"
      ]
     },
     "execution_count": 26,
     "metadata": {},
     "output_type": "execute_result"
    }
   ],
   "source": [
    "model.similarity('tree', 'bush')"
   ]
  },
  {
   "cell_type": "code",
   "execution_count": 27,
   "metadata": {},
   "outputs": [
    {
     "data": {
      "text/plain": [
       "0.7593138962984085"
      ]
     },
     "execution_count": 27,
     "metadata": {},
     "output_type": "execute_result"
    }
   ],
   "source": [
    "# distance is just the opposite of similarity\n",
    "model.distance('woman', 'tree')"
   ]
  },
  {
   "cell_type": "code",
   "execution_count": 68,
   "metadata": {},
   "outputs": [
    {
     "data": {
      "text/plain": [
       "1.0"
      ]
     },
     "execution_count": 68,
     "metadata": {},
     "output_type": "execute_result"
    }
   ],
   "source": [
    "model.distance('woman', 'man') + model.similarity('woman', 'man')"
   ]
  },
  {
   "cell_type": "code",
   "execution_count": 29,
   "metadata": {},
   "outputs": [
    {
     "data": {
      "text/plain": [
       "[('man', 0.7664012908935547),\n",
       " ('girl', 0.7494640946388245),\n",
       " ('teenager', 0.631708562374115),\n",
       " ('lady', 0.628878653049469),\n",
       " ('mother', 0.607630729675293),\n",
       " ('policewoman', 0.6069462299346924),\n",
       " ('boy', 0.5975908041000366),\n",
       " ('Woman', 0.5770983695983887),\n",
       " ('she', 0.5641393661499023),\n",
       " ('WOMAN', 0.5480420589447021)]"
      ]
     },
     "execution_count": 29,
     "metadata": {},
     "output_type": "execute_result"
    }
   ],
   "source": [
    "# closest by cosine similarity\n",
    "model.similar_by_word('woman', topn=10)"
   ]
  },
  {
   "cell_type": "code",
   "execution_count": 30,
   "metadata": {},
   "outputs": [
    {
     "data": {
      "text/plain": [
       "[('her', 0.7834683656692505),\n",
       " ('She', 0.7553188800811768),\n",
       " ('herself', 0.6698907613754272),\n",
       " ('hers', 0.6509943604469299),\n",
       " ('he', 0.612994909286499),\n",
       " ('woman', 0.5641393661499023),\n",
       " ('mother', 0.5349627733230591),\n",
       " (\"she'd\", 0.5239877700805664),\n",
       " ('girl', 0.5198404788970947),\n",
       " ('lady', 0.5079309344291687)]"
      ]
     },
     "execution_count": 30,
     "metadata": {},
     "output_type": "execute_result"
    }
   ],
   "source": [
    "# closest by cosine similarity\n",
    "model.similar_by_word('she', topn=10)"
   ]
  },
  {
   "cell_type": "code",
   "execution_count": 31,
   "metadata": {},
   "outputs": [
    {
     "name": "stdout",
     "output_type": "stream",
     "text": [
      "\u001b[1;31mSignature:\u001b[0m\n",
      "\u001b[0mmodel\u001b[0m\u001b[1;33m.\u001b[0m\u001b[0mmost_similar\u001b[0m\u001b[1;33m(\u001b[0m\u001b[1;33m\n",
      "\u001b[0m    \u001b[0mpositive\u001b[0m\u001b[1;33m=\u001b[0m\u001b[1;32mNone\u001b[0m\u001b[1;33m,\u001b[0m\u001b[1;33m\n",
      "\u001b[0m    \u001b[0mnegative\u001b[0m\u001b[1;33m=\u001b[0m\u001b[1;32mNone\u001b[0m\u001b[1;33m,\u001b[0m\u001b[1;33m\n",
      "\u001b[0m    \u001b[0mtopn\u001b[0m\u001b[1;33m=\u001b[0m\u001b[1;36m10\u001b[0m\u001b[1;33m,\u001b[0m\u001b[1;33m\n",
      "\u001b[0m    \u001b[0mclip_start\u001b[0m\u001b[1;33m=\u001b[0m\u001b[1;36m0\u001b[0m\u001b[1;33m,\u001b[0m\u001b[1;33m\n",
      "\u001b[0m    \u001b[0mclip_end\u001b[0m\u001b[1;33m=\u001b[0m\u001b[1;32mNone\u001b[0m\u001b[1;33m,\u001b[0m\u001b[1;33m\n",
      "\u001b[0m    \u001b[0mrestrict_vocab\u001b[0m\u001b[1;33m=\u001b[0m\u001b[1;32mNone\u001b[0m\u001b[1;33m,\u001b[0m\u001b[1;33m\n",
      "\u001b[0m    \u001b[0mindexer\u001b[0m\u001b[1;33m=\u001b[0m\u001b[1;32mNone\u001b[0m\u001b[1;33m,\u001b[0m\u001b[1;33m\n",
      "\u001b[0m\u001b[1;33m)\u001b[0m\u001b[1;33m\u001b[0m\u001b[1;33m\u001b[0m\u001b[0m\n",
      "\u001b[1;31mDocstring:\u001b[0m\n",
      "Find the top-N most similar keys.\n",
      "Positive keys contribute positively towards the similarity, negative keys negatively.\n",
      "\n",
      "This method computes cosine similarity between a simple mean of the projection\n",
      "weight vectors of the given keys and the vectors for each key in the model.\n",
      "The method corresponds to the `word-analogy` and `distance` scripts in the original\n",
      "word2vec implementation.\n",
      "\n",
      "Parameters\n",
      "----------\n",
      "positive : list of (str or int or ndarray), optional\n",
      "    List of keys that contribute positively.\n",
      "negative : list of (str or int or ndarray), optional\n",
      "    List of keys that contribute negatively.\n",
      "topn : int or None, optional\n",
      "    Number of top-N similar keys to return, when `topn` is int. When `topn` is None,\n",
      "    then similarities for all keys are returned.\n",
      "clip_start : int\n",
      "    Start clipping index.\n",
      "clip_end : int\n",
      "    End clipping index.\n",
      "restrict_vocab : int, optional\n",
      "    Optional integer which limits the range of vectors which\n",
      "    are searched for most-similar values. For example, restrict_vocab=10000 would\n",
      "    only check the first 10000 key vectors in the vocabulary order. (This may be\n",
      "    meaningful if you've sorted the vocabulary by descending frequency.) If\n",
      "    specified, overrides any values of ``clip_start`` or ``clip_end``.\n",
      "\n",
      "Returns\n",
      "-------\n",
      "list of (str, float) or numpy.array\n",
      "    When `topn` is int, a sequence of (key, similarity) is returned.\n",
      "    When `topn` is None, then similarities for all keys are returned as a\n",
      "    one-dimensional numpy array with the size of the vocabulary.\n",
      "\u001b[1;31mFile:\u001b[0m      c:\\users\\arthu\\appdata\\local\\programs\\python\\python39\\lib\\site-packages\\gensim\\models\\keyedvectors.py\n",
      "\u001b[1;31mType:\u001b[0m      method\n"
     ]
    }
   ],
   "source": [
    "model.most_similar?"
   ]
  },
  {
   "cell_type": "code",
   "execution_count": 32,
   "metadata": {},
   "outputs": [
    {
     "data": {
      "text/plain": [
       "[('man', 0.7664012908935547),\n",
       " ('girl', 0.7494640946388245),\n",
       " ('teenager', 0.631708562374115),\n",
       " ('lady', 0.628878653049469),\n",
       " ('mother', 0.607630729675293),\n",
       " ('policewoman', 0.6069462299346924),\n",
       " ('boy', 0.5975908041000366),\n",
       " ('Woman', 0.5770983695983887),\n",
       " ('she', 0.5641393661499023),\n",
       " ('WOMAN', 0.5480420589447021)]"
      ]
     },
     "execution_count": 32,
     "metadata": {},
     "output_type": "execute_result"
    }
   ],
   "source": [
    "model.most_similar(positive=['woman'], topn=10)"
   ]
  },
  {
   "cell_type": "code",
   "execution_count": 33,
   "metadata": {},
   "outputs": [
    {
     "data": {
      "text/plain": [
       "[('TrackMan_™', 0.2320953905582428),\n",
       " ('XREF', 0.2311130166053772),\n",
       " ('Holdover', 0.22936435043811798),\n",
       " ('atg', 0.20966331660747528),\n",
       " ('SUs', 0.20768462121486664),\n",
       " ('BtB', 0.2053377777338028),\n",
       " ('CHONE', 0.20139625668525696),\n",
       " ('ForeSight', 0.19962351024150848),\n",
       " ('Cloudlet', 0.1993107795715332),\n",
       " ('continued.', 0.19774185121059418)]"
      ]
     },
     "execution_count": 33,
     "metadata": {},
     "output_type": "execute_result"
    }
   ],
   "source": [
    "model.most_similar(negative=['woman'], topn=10)"
   ]
  },
  {
   "cell_type": "code",
   "execution_count": 34,
   "metadata": {},
   "outputs": [
    {
     "data": {
      "text/plain": [
       "[('large', 0.5827966928482056),\n",
       " ('buildings', 0.5237561464309692),\n",
       " ('tiny', 0.5019488334655762),\n",
       " ('smaller', 0.4980281591415405),\n",
       " ('nonhistoric', 0.49050506949424744),\n",
       " ('multibuilding', 0.47966960072517395),\n",
       " ('brick', 0.47962814569473267),\n",
       " ('multistory', 0.4714732766151428),\n",
       " ('houses', 0.4629659652709961),\n",
       " ('larger', 0.4556998312473297)]"
      ]
     },
     "execution_count": 34,
     "metadata": {},
     "output_type": "execute_result"
    }
   ],
   "source": [
    "model.most_similar(positive=['building', 'small'], topn=10)"
   ]
  },
  {
   "cell_type": "code",
   "execution_count": 35,
   "metadata": {},
   "outputs": [
    {
     "data": {
      "text/plain": [
       "[('man', 0.6628609895706177),\n",
       " ('queen', 0.643856406211853),\n",
       " ('girl', 0.6136074662208557),\n",
       " ('princess', 0.6087510585784912),\n",
       " ('monarch', 0.5900576710700989),\n",
       " ('prince', 0.5896845459938049),\n",
       " ('boy', 0.5665285587310791),\n",
       " ('lady', 0.5445605516433716),\n",
       " ('teenager', 0.5442259907722473),\n",
       " ('ruler', 0.5134526491165161)]"
      ]
     },
     "execution_count": 35,
     "metadata": {},
     "output_type": "execute_result"
    }
   ],
   "source": [
    "model.most_similar(positive=['woman', 'king'], topn=10)"
   ]
  },
  {
   "cell_type": "code",
   "execution_count": 36,
   "metadata": {},
   "outputs": [
    {
     "data": {
      "text/plain": [
       "[('queen', 0.7118193507194519),\n",
       " ('monarch', 0.6189674735069275),\n",
       " ('princess', 0.5902431011199951),\n",
       " ('prince', 0.5377321839332581),\n",
       " ('kings', 0.5236844420433044),\n",
       " ('queens', 0.518113374710083),\n",
       " ('sultan', 0.5098593235015869),\n",
       " ('monarchy', 0.5087411999702454),\n",
       " ('throne', 0.5005807876586914),\n",
       " ('royal', 0.4938204884529114)]"
      ]
     },
     "execution_count": 36,
     "metadata": {},
     "output_type": "execute_result"
    }
   ],
   "source": [
    "model.most_similar(positive=['woman', 'king'], negative=['man'], topn=10)"
   ]
  },
  {
   "cell_type": "code",
   "execution_count": 64,
   "metadata": {},
   "outputs": [
    {
     "data": {
      "text/plain": [
       "[('Emilie', 0.524645984172821),\n",
       " ('Jean', 0.5192999839782715),\n",
       " ('mathematics', 0.5178912281990051),\n",
       " ('Danielle', 0.5119056105613708),\n",
       " ('Renee', 0.508338212966919),\n",
       " ('physicist', 0.5077746510505676),\n",
       " ('Jacqueline', 0.5047625303268433),\n",
       " ('Genevieve', 0.5038866996765137),\n",
       " ('Joanne', 0.503119945526123),\n",
       " ('thermodynamics', 0.5030534267425537)]"
      ]
     },
     "execution_count": 64,
     "metadata": {},
     "output_type": "execute_result"
    }
   ],
   "source": [
    "model.most_similar(positive=['Marie', 'physics'], topn=10)"
   ]
  },
  {
   "cell_type": "code",
   "execution_count": 38,
   "metadata": {},
   "outputs": [
    {
     "data": {
      "text/plain": [
       "[('Gmail', 0.7193901538848877),\n",
       " ('GMail', 0.6999940276145935),\n",
       " ('gmail', 0.66517174243927),\n",
       " ('Hotmail', 0.6270520091056824),\n",
       " ('Yahoo', 0.6016308069229126),\n",
       " ('gMail', 0.5895736217498779),\n",
       " ('Facebook', 0.5802149176597595),\n",
       " ('reMail', 0.5748775005340576),\n",
       " ('HotMail', 0.5577898621559143),\n",
       " ('eMail', 0.5538671016693115)]"
      ]
     },
     "execution_count": 38,
     "metadata": {},
     "output_type": "execute_result"
    }
   ],
   "source": [
    "# model.most_similar(positive=['Porche'], topn=10)\n",
    "model.most_similar(positive=['Google','email'], topn=10)"
   ]
  },
  {
   "cell_type": "code",
   "execution_count": 65,
   "metadata": {},
   "outputs": [
    {
     "data": {
      "text/plain": [
       "[('machines', 0.5418595671653748),\n",
       " ('learn', 0.47218501567840576),\n",
       " ('reteaching', 0.4652780294418335),\n",
       " ('computer', 0.4583987295627594),\n",
       " ('simulator', 0.45783379673957825),\n",
       " ('teaching', 0.456357479095459),\n",
       " ('kinaesthetic', 0.4507412314414978),\n",
       " ('Learning', 0.44589924812316895),\n",
       " ('relearns', 0.44498762488365173),\n",
       " ('mastering', 0.4417087435722351)]"
      ]
     },
     "execution_count": 65,
     "metadata": {},
     "output_type": "execute_result"
    }
   ],
   "source": [
    "model.most_similar(positive=['machine','learning'], topn=10)"
   ]
  },
  {
   "cell_type": "markdown",
   "metadata": {},
   "source": [
    "### Multiplicative combination"
   ]
  },
  {
   "cell_type": "code",
   "execution_count": 40,
   "metadata": {},
   "outputs": [
    {
     "name": "stdout",
     "output_type": "stream",
     "text": [
      "\u001b[1;31mSignature:\u001b[0m \u001b[0mmodel\u001b[0m\u001b[1;33m.\u001b[0m\u001b[0mmost_similar_cosmul\u001b[0m\u001b[1;33m(\u001b[0m\u001b[0mpositive\u001b[0m\u001b[1;33m=\u001b[0m\u001b[1;32mNone\u001b[0m\u001b[1;33m,\u001b[0m \u001b[0mnegative\u001b[0m\u001b[1;33m=\u001b[0m\u001b[1;32mNone\u001b[0m\u001b[1;33m,\u001b[0m \u001b[0mtopn\u001b[0m\u001b[1;33m=\u001b[0m\u001b[1;36m10\u001b[0m\u001b[1;33m)\u001b[0m\u001b[1;33m\u001b[0m\u001b[1;33m\u001b[0m\u001b[0m\n",
      "\u001b[1;31mDocstring:\u001b[0m\n",
      "Find the top-N most similar words, using the multiplicative combination objective,\n",
      "proposed by `Omer Levy and Yoav Goldberg \"Linguistic Regularities in Sparse and Explicit Word Representations\"\n",
      "<http://www.aclweb.org/anthology/W14-1618>`_. Positive words still contribute positively towards the similarity,\n",
      "negative words negatively, but with less susceptibility to one large distance dominating the calculation.\n",
      "In the common analogy-solving case, of two positive and one negative examples,\n",
      "this method is equivalent to the \"3CosMul\" objective (equation (4)) of Levy and Goldberg.\n",
      "\n",
      "Additional positive or negative examples contribute to the numerator or denominator,\n",
      "respectively - a potentially sensible but untested extension of the method.\n",
      "With a single positive example, rankings will be the same as in the default\n",
      ":meth:`~gensim.models.keyedvectors.KeyedVectors.most_similar`.\n",
      "\n",
      "Parameters\n",
      "----------\n",
      "positive : list of str, optional\n",
      "    List of words that contribute positively.\n",
      "negative : list of str, optional\n",
      "    List of words that contribute negatively.\n",
      "topn : int or None, optional\n",
      "    Number of top-N similar words to return, when `topn` is int. When `topn` is None,\n",
      "    then similarities for all words are returned.\n",
      "\n",
      "Returns\n",
      "-------\n",
      "list of (str, float) or numpy.array\n",
      "    When `topn` is int, a sequence of (word, similarity) is returned.\n",
      "    When `topn` is None, then similarities for all words are returned as a\n",
      "    one-dimensional numpy array with the size of the vocabulary.\n",
      "\u001b[1;31mFile:\u001b[0m      c:\\users\\arthu\\appdata\\local\\programs\\python\\python39\\lib\\site-packages\\gensim\\models\\keyedvectors.py\n",
      "\u001b[1;31mType:\u001b[0m      method\n"
     ]
    }
   ],
   "source": [
    "model.most_similar_cosmul?"
   ]
  },
  {
   "cell_type": "code",
   "execution_count": 41,
   "metadata": {},
   "outputs": [
    {
     "data": {
      "text/plain": [
       "[('queen', 0.9314123392105103),\n",
       " ('monarch', 0.858533501625061),\n",
       " ('princess', 0.8476566076278687),\n",
       " ('queens', 0.8099815249443054),\n",
       " ('monarchy', 0.801961362361908),\n",
       " ('prince', 0.8009798526763916),\n",
       " ('empress', 0.7958388328552246),\n",
       " ('throne', 0.7853888869285583),\n",
       " ('sultan', 0.7844569683074951),\n",
       " ('royal', 0.7835603356361389)]"
      ]
     },
     "execution_count": 41,
     "metadata": {},
     "output_type": "execute_result"
    }
   ],
   "source": [
    "model.most_similar_cosmul(positive=['woman', 'king'], negative=['man'], topn=10)"
   ]
  },
  {
   "cell_type": "code",
   "execution_count": 42,
   "metadata": {},
   "outputs": [
    {
     "data": {
      "text/plain": [
       "[('queen', 0.7118193507194519),\n",
       " ('monarch', 0.6189674735069275),\n",
       " ('princess', 0.5902431011199951),\n",
       " ('prince', 0.5377321839332581),\n",
       " ('kings', 0.5236844420433044),\n",
       " ('queens', 0.518113374710083),\n",
       " ('sultan', 0.5098593235015869),\n",
       " ('monarchy', 0.5087411999702454),\n",
       " ('throne', 0.5005807876586914),\n",
       " ('royal', 0.4938204884529114)]"
      ]
     },
     "execution_count": 42,
     "metadata": {},
     "output_type": "execute_result"
    }
   ],
   "source": [
    "model.most_similar(positive=['woman', 'king'], negative=['man'], topn=10)"
   ]
  },
  {
   "cell_type": "code",
   "execution_count": 43,
   "metadata": {},
   "outputs": [
    {
     "data": {
      "text/plain": [
       "[('queen', 0.5432848334312439),\n",
       " ('man', 0.5429146885871887),\n",
       " ('princess', 0.5300394296646118),\n",
       " ('prince', 0.5130366683006287),\n",
       " ('girl', 0.5127540826797485),\n",
       " ('monarch', 0.5109155178070068),\n",
       " ('boy', 0.5006506443023682),\n",
       " ('lady', 0.48427513241767883),\n",
       " ('teenager', 0.4837571084499359),\n",
       " ('goddess', 0.4713200628757477)]"
      ]
     },
     "execution_count": 43,
     "metadata": {},
     "output_type": "execute_result"
    }
   ],
   "source": [
    "model.most_similar_cosmul(positive=['woman', 'king'], topn=10)"
   ]
  },
  {
   "cell_type": "code",
   "execution_count": 44,
   "metadata": {},
   "outputs": [
    {
     "data": {
      "text/plain": [
       "[('man', 0.6628609895706177),\n",
       " ('queen', 0.643856406211853),\n",
       " ('girl', 0.6136074662208557),\n",
       " ('princess', 0.6087510585784912),\n",
       " ('monarch', 0.5900576710700989),\n",
       " ('prince', 0.5896845459938049),\n",
       " ('boy', 0.5665285587310791),\n",
       " ('lady', 0.5445605516433716),\n",
       " ('teenager', 0.5442259907722473),\n",
       " ('ruler', 0.5134526491165161)]"
      ]
     },
     "execution_count": 44,
     "metadata": {},
     "output_type": "execute_result"
    }
   ],
   "source": [
    "model.most_similar(positive=['woman', 'king'], topn=10)"
   ]
  },
  {
   "cell_type": "code",
   "execution_count": null,
   "metadata": {},
   "outputs": [],
   "source": []
  }
 ],
 "metadata": {
  "kernelspec": {
   "display_name": "Python 3 (ipykernel)",
   "language": "python",
   "name": "python3"
  },
  "language_info": {
   "codemirror_mode": {
    "name": "ipython",
    "version": 3
   },
   "file_extension": ".py",
   "mimetype": "text/x-python",
   "name": "python",
   "nbconvert_exporter": "python",
   "pygments_lexer": "ipython3",
   "version": "3.9.5"
  }
 },
 "nbformat": 4,
 "nbformat_minor": 2
}
