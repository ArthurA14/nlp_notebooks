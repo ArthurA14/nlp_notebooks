{
 "cells": [
  {
   "cell_type": "code",
   "execution_count": null,
   "metadata": {},
   "outputs": [],
   "source": [
    "# !pip install gensim"
   ]
  },
  {
   "cell_type": "code",
   "execution_count": 1,
   "metadata": {},
   "outputs": [],
   "source": [
    "import gzip\n",
    "import gensim \n",
    "import pandas as pd"
   ]
  },
  {
   "cell_type": "code",
   "execution_count": 2,
   "metadata": {},
   "outputs": [],
   "source": [
    "data = pd.read_csv(\"bbc-news-dataset.csv\",index_col=0)"
   ]
  },
  {
   "cell_type": "code",
   "execution_count": 3,
   "metadata": {},
   "outputs": [
    {
     "data": {
      "text/html": [
       "<div>\n",
       "<style scoped>\n",
       "    .dataframe tbody tr th:only-of-type {\n",
       "        vertical-align: middle;\n",
       "    }\n",
       "\n",
       "    .dataframe tbody tr th {\n",
       "        vertical-align: top;\n",
       "    }\n",
       "\n",
       "    .dataframe thead th {\n",
       "        text-align: right;\n",
       "    }\n",
       "</style>\n",
       "<table border=\"1\" class=\"dataframe\">\n",
       "  <thead>\n",
       "    <tr style=\"text-align: right;\">\n",
       "      <th></th>\n",
       "      <th>description</th>\n",
       "      <th>tags</th>\n",
       "    </tr>\n",
       "  </thead>\n",
       "  <tbody>\n",
       "    <tr>\n",
       "      <th>0</th>\n",
       "      <td>chelsea sack mutu  chelsea have sacked adrian ...</td>\n",
       "      <td>sports, stamford bridge, football association,...</td>\n",
       "    </tr>\n",
       "    <tr>\n",
       "      <th>1</th>\n",
       "      <td>record fails to lift lacklustre meet  yelena i...</td>\n",
       "      <td>sports, madrid, birmingham, france, scotland, ...</td>\n",
       "    </tr>\n",
       "    <tr>\n",
       "      <th>2</th>\n",
       "      <td>edu describes tunnel fracas  arsenals edu has ...</td>\n",
       "      <td>sports, derby, brazil, tunnel fracasedu, food,...</td>\n",
       "    </tr>\n",
       "    <tr>\n",
       "      <th>3</th>\n",
       "      <td>ogara revels in ireland victory  ireland flyha...</td>\n",
       "      <td>sports, bbc, united kingdom, ireland, brian o'...</td>\n",
       "    </tr>\n",
       "    <tr>\n",
       "      <th>4</th>\n",
       "      <td>unclear future for striker baros  liverpool fo...</td>\n",
       "      <td>sports, liverpool, daily sport, millennium sta...</td>\n",
       "    </tr>\n",
       "    <tr>\n",
       "      <th>5</th>\n",
       "      <td>ronaldo considering new contract  manchester u...</td>\n",
       "      <td>sports, news of the world, portugal, cristiano...</td>\n",
       "    </tr>\n",
       "    <tr>\n",
       "      <th>6</th>\n",
       "      <td>dawson wins england squad recall  wasps scrumh...</td>\n",
       "      <td>sports, leeds, leicester, bath, newport, glouc...</td>\n",
       "    </tr>\n",
       "    <tr>\n",
       "      <th>7</th>\n",
       "      <td>man utd through after exeter test  manchester ...</td>\n",
       "      <td>sports, exeter city, exeter, scholes, tim howa...</td>\n",
       "    </tr>\n",
       "    <tr>\n",
       "      <th>8</th>\n",
       "      <td>barkley fit for match in ireland  england cent...</td>\n",
       "      <td>sports, bath, gloucester, bell, united kingdom...</td>\n",
       "    </tr>\n",
       "    <tr>\n",
       "      <th>9</th>\n",
       "      <td>bristol city  milton keynes  leroy lita took h...</td>\n",
       "      <td>sports, bristol city, bell, chorley, richard j...</td>\n",
       "    </tr>\n",
       "  </tbody>\n",
       "</table>\n",
       "</div>"
      ],
      "text/plain": [
       "                                         description  \\\n",
       "0  chelsea sack mutu  chelsea have sacked adrian ...   \n",
       "1  record fails to lift lacklustre meet  yelena i...   \n",
       "2  edu describes tunnel fracas  arsenals edu has ...   \n",
       "3  ogara revels in ireland victory  ireland flyha...   \n",
       "4  unclear future for striker baros  liverpool fo...   \n",
       "5  ronaldo considering new contract  manchester u...   \n",
       "6  dawson wins england squad recall  wasps scrumh...   \n",
       "7  man utd through after exeter test  manchester ...   \n",
       "8  barkley fit for match in ireland  england cent...   \n",
       "9  bristol city  milton keynes  leroy lita took h...   \n",
       "\n",
       "                                                tags  \n",
       "0  sports, stamford bridge, football association,...  \n",
       "1  sports, madrid, birmingham, france, scotland, ...  \n",
       "2  sports, derby, brazil, tunnel fracasedu, food,...  \n",
       "3  sports, bbc, united kingdom, ireland, brian o'...  \n",
       "4  sports, liverpool, daily sport, millennium sta...  \n",
       "5  sports, news of the world, portugal, cristiano...  \n",
       "6  sports, leeds, leicester, bath, newport, glouc...  \n",
       "7  sports, exeter city, exeter, scholes, tim howa...  \n",
       "8  sports, bath, gloucester, bell, united kingdom...  \n",
       "9  sports, bristol city, bell, chorley, richard j...  "
      ]
     },
     "execution_count": 3,
     "metadata": {},
     "output_type": "execute_result"
    }
   ],
   "source": [
    "data.head(10)"
   ]
  },
  {
   "cell_type": "code",
   "execution_count": 4,
   "metadata": {},
   "outputs": [
    {
     "data": {
      "text/plain": [
       "(2410,)"
      ]
     },
     "execution_count": 4,
     "metadata": {},
     "output_type": "execute_result"
    }
   ],
   "source": [
    "data['description'].shape"
   ]
  },
  {
   "cell_type": "code",
   "execution_count": 5,
   "metadata": {},
   "outputs": [],
   "source": [
    "# preprocess using gensim.utils.simple_preprocess function\n",
    "data['description_preprocessed'] = data['description'].apply(lambda x: gensim.utils.simple_preprocess(x))"
   ]
  },
  {
   "cell_type": "code",
   "execution_count": 6,
   "metadata": {},
   "outputs": [
    {
     "data": {
      "text/plain": [
       "0    [chelsea, sack, mutu, chelsea, have, sacked, a...\n",
       "1    [record, fails, to, lift, lacklustre, meet, ye...\n",
       "2    [edu, describes, tunnel, fracas, arsenals, edu...\n",
       "3    [ogara, revels, in, ireland, victory, ireland,...\n",
       "4    [unclear, future, for, striker, baros, liverpo...\n",
       "5    [ronaldo, considering, new, contract, manchest...\n",
       "6    [dawson, wins, england, squad, recall, wasps, ...\n",
       "7    [man, utd, through, after, exeter, test, manch...\n",
       "8    [barkley, fit, for, match, in, ireland, englan...\n",
       "9    [bristol, city, milton, keynes, leroy, lita, t...\n",
       "Name: description_preprocessed, dtype: object"
      ]
     },
     "execution_count": 6,
     "metadata": {},
     "output_type": "execute_result"
    }
   ],
   "source": [
    "data['description_preprocessed'].head(10)"
   ]
  },
  {
   "cell_type": "code",
   "execution_count": 7,
   "metadata": {},
   "outputs": [],
   "source": [
    "# build vocabulary and train model\n",
    "model = gensim.models.Word2Vec(\n",
    "    data['description_preprocessed'].tolist(),\n",
    "    window=10,\n",
    "    min_count=3,\n",
    "    workers=-1,\n",
    "   )"
   ]
  },
  {
   "cell_type": "code",
   "execution_count": 8,
   "metadata": {},
   "outputs": [
    {
     "data": {
      "text/plain": [
       "[('accordance', 0.42389774322509766),\n",
       " ('profession', 0.3827987313270569),\n",
       " ('cactus', 0.34808337688446045),\n",
       " ('stimulant', 0.3455468714237213),\n",
       " ('slimfast', 0.3444220721721649),\n",
       " ('attracting', 0.3330012261867523),\n",
       " ('cheering', 0.3222581744194031),\n",
       " ('nistelrooys', 0.3178967833518982),\n",
       " ('saintandre', 0.31748420000076294),\n",
       " ('payers', 0.31734904646873474)]"
      ]
     },
     "execution_count": 8,
     "metadata": {},
     "output_type": "execute_result"
    }
   ],
   "source": [
    "# Done building the model, let's look at some results\n",
    "w1 = \"male\"\n",
    "model.wv.most_similar(positive=w1)"
   ]
  },
  {
   "cell_type": "code",
   "execution_count": 9,
   "metadata": {},
   "outputs": [
    {
     "data": {
      "text/plain": [
       "[('salesman', 0.36349043250083923),\n",
       " ('destinys', 0.3577110469341278),\n",
       " ('reputation', 0.3450581431388855),\n",
       " ('disability', 0.34171873331069946),\n",
       " ('aircraft', 0.31795260310173035),\n",
       " ('billy', 0.3168894648551941)]"
      ]
     },
     "execution_count": 9,
     "metadata": {},
     "output_type": "execute_result"
    }
   ],
   "source": [
    "# look up top 6 words similar to 'science'\n",
    "w2 = [\"science\"]\n",
    "model.wv.most_similar(positive=w2,topn=6)"
   ]
  },
  {
   "cell_type": "code",
   "execution_count": 10,
   "metadata": {},
   "outputs": [
    {
     "data": {
      "text/plain": [
       "[('add', 0.39684927463531494),\n",
       " ('trio', 0.37664318084716797),\n",
       " ('repertoire', 0.36510688066482544),\n",
       " ('angolan', 0.35545095801353455),\n",
       " ('fisher', 0.34198546409606934),\n",
       " ('webs', 0.3361279368400574)]"
      ]
     },
     "execution_count": 10,
     "metadata": {},
     "output_type": "execute_result"
    }
   ],
   "source": [
    "# look up top 6 words similar to 'france'\n",
    "w3 = [\"france\"]\n",
    "model.wv.most_similar (positive=w3,topn=6)"
   ]
  },
  {
   "cell_type": "code",
   "execution_count": null,
   "metadata": {},
   "outputs": [],
   "source": []
  }
 ],
 "metadata": {
  "kernelspec": {
   "display_name": "Python 3 (ipykernel)",
   "language": "python",
   "name": "python3"
  },
  "language_info": {
   "codemirror_mode": {
    "name": "ipython",
    "version": 3
   },
   "file_extension": ".py",
   "mimetype": "text/x-python",
   "name": "python",
   "nbconvert_exporter": "python",
   "pygments_lexer": "ipython3",
   "version": "3.9.5"
  }
 },
 "nbformat": 4,
 "nbformat_minor": 4
}
